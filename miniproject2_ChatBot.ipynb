{
 "cells": [
  {
   "cell_type": "markdown",
   "metadata": {},
   "source": [
    "# Miniproject 2: Chatbot\n",
    "\n",
    "## Introduction\n",
    "\n",
    "### Description\n",
    "\n",
    "Developing a model employing ANN on real-world data requires going through several major steps, each of which with \n",
    "important design choices that directly impact the final results. \n",
    "In this project, we guide you through these choices starting from a large database of \n",
    "[conversations](http://parl.ai/downloads/personachat/personachat.tgz) to a functional chatbot. \n",
    "\n",
    "### Prerequisites\n",
    "\n",
    "- You should have a running installation of [tensorflow](https://www.tensorflow.org/install/) and [keras](https://keras.io/).\n",
    "- You should know the concepts \"recurrent neural networks\", \"LSTM\", \"training and validation data\", \"overfitting\" and \"early stopping\".\n",
    "\n",
    "### What you will learn\n",
    "\n",
    "- You will be guided through a data processing procedure and understand the importance of design choices in ANN modeling\n",
    "- You will learn how to define recurrent neural networks in keras and fit them to data.\n",
    "- You will be guided through a prototyping procedure for the application of deep learning to a specific domain.\n",
    "- You will get in contact with concepts discussed in the lecture, like \"overfitting\", \"LSTM network\", and \"Generative model\".\n",
    "- You will learn to be more patient :) Some fits may take your computer quite a bit of time; run them over night and make sure you save (and load) your data and models.\n",
    "\n",
    "### Evaluation criteria\n",
    "\n",
    "The evaluation is (mostly) based on the figures you submit and your answer sentences. \n",
    "We will only do random tests of your code and not re-run the full notebook. \n",
    "Please ensure that your notebook is fully executed before handing it in. \n",
    "\n",
    "### Submission \n",
    "\n",
    "You should submit your notebook through the Moodle page submission tool. You should work in teams of two people and each member should submit the same notebook to Moodle.\n",
    "\n"
   ]
  },
  {
   "cell_type": "markdown",
   "metadata": {},
   "source": [
    "## Functions and imports\n",
    "\n",
    "For your convenience we import some libraries and provide some functions below. Fill in your names, sciper numbers and run the following cell."
   ]
  },
  {
   "cell_type": "code",
   "execution_count": 1,
   "metadata": {},
   "outputs": [
    {
     "name": "stderr",
     "output_type": "stream",
     "text": [
      "Using TensorFlow backend.\n"
     ]
    }
   ],
   "source": [
    "names = {'student_1': \"Doga Tekin\",\n",
    "        'student_2': \"Serif Soner Serbest\"}\n",
    "\n",
    "sciper = {'student_1': 293688, \n",
    "          'student_2': 294910}\n",
    "\n",
    "seed = sciper['student_1']+sciper['student_2']\n",
    "\n",
    "%matplotlib inline\n",
    "\n",
    "import numpy as np\n",
    "import matplotlib.pyplot as plt\n",
    "import os, sys\n",
    "import copy\n",
    "import pickle\n",
    "\n",
    "plt.rcParams['font.size'] = 28\n",
    "plt.style.use('ggplot')\n",
    "plt.rcParams[\"axes.grid\"] = False\n",
    "c = plt.rcParams['axes.prop_cycle'].by_key()['color']\n",
    "\n",
    "import keras\n",
    "from keras.models import Model, load_model\n",
    "from keras.layers import Input, Masking, TimeDistributed, Dense, Concatenate, Dropout, LSTM, GRU, SimpleRNN, Bidirectional, Embedding, BatchNormalization\n",
    "from keras.optimizers import Adam\n",
    "from keras.utils import np_utils\n",
    "from keras.preprocessing.sequence import pad_sequences\n",
    "from keras.callbacks import ModelCheckpoint, EarlyStopping\n",
    "\n",
    "\n",
    "def getRawDataFromFile(datapath=\"data/personachat/\", file=\"train_both_revised.txt\"):\n",
    "    \n",
    "    f = open(datapath+file)\n",
    "\n",
    "    conversations = []\n",
    "    current_conversation = []\n",
    "    \n",
    "    for l, line in enumerate(f):\n",
    "        #print(l, line)\n",
    "        if \"persona:\" in line:\n",
    "            if len(current_conversation) > 1:\n",
    "                conversations.append(current_conversation)\n",
    "            current_conversation = [] \n",
    "            continue\n",
    "\n",
    "        #remove numberings\n",
    "        processed_line = line.split(' ')\n",
    "        processed_line = \" \".join(processed_line[1:])\n",
    "        line = processed_line\n",
    "        #print(line)\n",
    "\n",
    "        conv = line.split('\\t')    \n",
    "        q = conv[0]\n",
    "        a = conv[1]\n",
    "        current_conversation.append(q)\n",
    "        current_conversation.append(a)\n",
    "    \n",
    "    return conversations "
   ]
  },
  {
   "cell_type": "markdown",
   "metadata": {
    "collapsed": true
   },
   "source": [
    "## Data visualization and preprocessing\n",
    "\n",
    "Here we will process and visualize the data.\n"
   ]
  },
  {
   "cell_type": "markdown",
   "metadata": {},
   "source": [
    "### Parse raw data \n",
    "\n",
    "Download the dataset on http://parl.ai/downloads/personachat/personachat.tgz. Unpack it and add it to your project folder. Read and run the getRawDataFromFile function (if needed, modify the default path). It extracts the conversations.\n",
    "\n",
    "**Output** Display two randomly selected conversations. [1 pt]"
   ]
  },
  {
   "cell_type": "code",
   "execution_count": 2,
   "metadata": {},
   "outputs": [
    {
     "data": {
      "text/plain": [
       "[['hi there ! how are you doing today ?',\n",
       "  'i am great , except both of my parents died this past year .',\n",
       "  'oh that is extremely sad i am sorry . do you have other family ?',\n",
       "  'i do , thankfully . i hop you are well .',\n",
       "  'i am alright . i am just watching tv with my cats milo and fio',\n",
       "  'cats are wonderful ! they help me enjoy even the smallest moments in life .',\n",
       "  'they are great so funny too !',\n",
       "  'my dream job would be to have a shelter .',\n",
       "  'i play video games a lot so i wish there was a job related to that !',\n",
       "  'lol yes ! i am having a hard time finding a job monday thursday .',\n",
       "  'i just work in retail right now . so i understand that struggle !',\n",
       "  'i have to be able to ride my bike too because the bus causes me anxiety .',\n",
       "  'we use a lot of public transportation here in canada . you probably would not like that .',\n",
       "  'no . it would help if i wore headphones . do you like music ?',\n",
       "  'yes ! i love music , especially when i play soccer .',\n",
       "  'fun ! i can get through my week with music . i listen everyday .'],\n",
       " ['hello ! how are you ?',\n",
       "  'i am great . i love to dance , do you ?',\n",
       "  'not as much . i like being with my family .',\n",
       "  'do you have any pets ? my dog , socks , lives at my parents house .',\n",
       "  'i do not . i want a dog , but my son is blind and i worry he would trip .',\n",
       "  'i am in college and work with blind children . some dogs can be trained to help .',\n",
       "  'that might be a bit much for me to do at the moment .',\n",
       "  'do you drive ? i just bought a lexus and the color is silver .',\n",
       "  'i do . i have a green saturn . my sister has the same one !',\n",
       "  'wow , that is cool . who keeps the cleanest car ?',\n",
       "  'me for sure . she is a total slob . very different even though we are twins .',\n",
       "  'll . did you ever trick teachers in school ?',\n",
       "  'i wish we had . jessica wanted to but i was always worried we would get caught .',\n",
       "  'yeah , i suppose that could be scary .',\n",
       "  'married ?',\n",
       "  'yes , i am married to my soulmate . she and i have been married 27 years . you ?']]"
      ]
     },
     "execution_count": 2,
     "metadata": {},
     "output_type": "execute_result"
    }
   ],
   "source": [
    "conversations = getRawDataFromFile()\n",
    "\n",
    "list(np.random.choice(conversations, size=2, replace=False))"
   ]
  },
  {
   "cell_type": "markdown",
   "metadata": {},
   "source": [
    "### Extract word tokens\n",
    "\n",
    "Let's start looking at our data. \n",
    "\n",
    "**Code** Compute the set of unique words (dictionary) in all sentences along with the number of occurences of each of these words. HINT: each word is separated by a space character, use the python string.split(' ') function to separate words. Consider punctuations as 'words'. [1 pt]\n",
    "\n",
    "**Figure** In a bar plot, show the first 75 most frequent words (x-axis) and their number of occurences (y-axis). [1 pt]\n",
    "\n",
    "**Figure** In another bar plot, show the 75 least frequent words (x-axis) and their number of occurences (y-axis). [1 pt] \n",
    "\n",
    "**Figure** In a log-log scale, plot the sorted word index (x-axis) vs their respective count (y-axis). [1 pt]\n",
    "\n",
    "**Question** Relate the sorted word count distribution with Zipf's law.\n",
    "Argue using the log-log plot. [1 pt]\n",
    "\n",
    "**Answer** *Zipf's law states that the frequenct of any word is inversely proportional to its rank in a corpus which can be observed as a line in log-log scale. We observed a almost linearly plot which conforms to Zipf's Law.*  \n",
    "\n",
    "**Question** How many words appear only once in the entire dataset? [1 pt]\n",
    "\n",
    "**Answer** *7080*\n",
    "\n"
   ]
  },
  {
   "cell_type": "code",
   "execution_count": 3,
   "metadata": {
    "scrolled": false
   },
   "outputs": [],
   "source": [
    "from collections import Counter"
   ]
  },
  {
   "cell_type": "code",
   "execution_count": 4,
   "metadata": {
    "scrolled": true
   },
   "outputs": [],
   "source": [
    "sentences = [sentence for conversation in conversations for sentence in conversation]\n",
    "\n",
    "words = ' '.join(sentences)\n",
    "dictionary = Counter(words.split(' '))"
   ]
  },
  {
   "cell_type": "markdown",
   "metadata": {},
   "source": [
    "frequent_words, count = zip(*dictionary.most_common(75))\n",
    "\n",
    "plt.figure(figsize=(17, 10))\n",
    "plt.bar(frequent_words, count)\n",
    "plt.xticks(rotation='vertical')\n",
    "plt.title(\"Count of Most Frequent 75 Words\")\n",
    "plt.xlabel(\"wors\")\n",
    "plt.ylabel(\"count\")"
   ]
  },
  {
   "cell_type": "code",
   "execution_count": 5,
   "metadata": {},
   "outputs": [
    {
     "data": {
      "text/plain": [
       "Text(0, 0.5, 'count')"
      ]
     },
     "execution_count": 5,
     "metadata": {},
     "output_type": "execute_result"
    },
    {
     "data": {
      "image/png": "[encoded data removed]",
      "text/plain": [
       "<Figure size 1224x720 with 1 Axes>"
      ]
     },
     "metadata": {
      "needs_background": "light"
     },
     "output_type": "display_data"
    }
   ],
   "source": [
    "frequent_words, count = zip(*dictionary.most_common(75))\n",
    "\n",
    "plt.figure(figsize=(17, 10))\n",
    "plt.bar(frequent_words, count)\n",
    "plt.xticks(rotation='vertical')\n",
    "plt.title(\"Count of Most Frequent 75 Words\")\n",
    "plt.xlabel(\"word\")\n",
    "plt.ylabel(\"count\")"
   ]
  },
  {
   "cell_type": "code",
   "execution_count": 6,
   "metadata": {
    "scrolled": false
   },
   "outputs": [
    {
     "data": {
      "text/plain": [
       "Text(0, 0.5, 'count')"
      ]
     },
     "execution_count": 6,
     "metadata": {},
     "output_type": "execute_result"
    },
    {
     "data": {
      "image/png": "[encoded data removed]",
      "text/plain": [
       "<Figure size 1224x720 with 1 Axes>"
      ]
     },
     "metadata": {
      "needs_background": "light"
     },
     "output_type": "display_data"
    }
   ],
   "source": [
    "least_frequent_words, count = zip(*dictionary.most_common()[:-76:-1])\n",
    "\n",
    "plt.figure(figsize=(17, 10))\n",
    "plt.bar(least_frequent_words, count)\n",
    "plt.xticks(rotation='vertical')\n",
    "plt.title(\"Count of Least Frequent 75 Words\")\n",
    "plt.xlabel(\"word\")\n",
    "plt.ylabel(\"count\")"
   ]
  },
  {
   "cell_type": "code",
   "execution_count": 7,
   "metadata": {
    "scrolled": false
   },
   "outputs": [
    {
     "data": {
      "text/plain": [
       "Text(0, 0.5, 'count in log scale')"
      ]
     },
     "execution_count": 7,
     "metadata": {},
     "output_type": "execute_result"
    },
    {
     "data": {
      "image/png": "[encoded data removed]",
      "text/plain": [
       "<Figure size 1224x720 with 1 Axes>"
      ]
     },
     "metadata": {
      "needs_background": "light"
     },
     "output_type": "display_data"
    }
   ],
   "source": [
    "_, sorted_counts = zip(*dictionary.most_common())\n",
    "\n",
    "plt.figure(figsize=(17, 10))\n",
    "plt.loglog(sorted_counts)\n",
    "plt.xticks(rotation='vertical')\n",
    "plt.title(\"Count of words vs their sorted index in log-log scale\")\n",
    "plt.xlabel(\"indices in log scale\")\n",
    "plt.ylabel(\"count in log scale\")"
   ]
  },
  {
   "cell_type": "code",
   "execution_count": 8,
   "metadata": {},
   "outputs": [
    {
     "data": {
      "text/plain": [
       "7080"
      ]
     },
     "execution_count": 8,
     "metadata": {},
     "output_type": "execute_result"
    }
   ],
   "source": [
    "# number of words appear only once in the dataset\n",
    "sum(np.array(sorted_counts) == 1)"
   ]
  },
  {
   "cell_type": "markdown",
   "metadata": {},
   "source": [
    "### Filtering\n",
    "\n",
    "We suggest to filter your data by removing sentences containing rare words. \n",
    "\n",
    "\n",
    "**Code** To achieve that, you should create a new dataset where sentences containing rare words (words that occur less than N times in the dataset) are removed. Keep at least 50'000 sentences (depending on your computing power, you can keep more). \n",
    "HINT: Start by updating the dictionary accordingly and then remove any sentence that contains at least a single word that is not in the dictionary of words. [2 pts]\n",
    "\n",
    "**Question**: How much did you reduce the number of unique words with your rare event suppression procedure? [1 pt]\n",
    "    \n",
    "**Answer**: *We aproximately reduce the unique_words with a rate of 1/12 which corresponds to 1644 words out of 18673*\n",
    "\n",
    "**Question**: How many sentences are in your filtered and original dataset? [1 pt]\n",
    "\n",
    "**Answer**: *There are 131424 sentences in original dataset and 67024 sentences in filtered dataset*\n",
    "\n",
    "**Question**: What is the impact on learning and generalization of removing sentences with rare words from your dataset? [2 pt]\n",
    "\n",
    "**Answer**: *In terms of learning, it provides cleaner and smaller dataset that allows to train faster. In terms of generalization, it removes context specific terms and allows network to respond in a more common language.*"
   ]
  },
  {
   "cell_type": "code",
   "execution_count": 9,
   "metadata": {},
   "outputs": [],
   "source": [
    "#TODO: Review answer of the last questio above"
   ]
  },
  {
   "cell_type": "code",
   "execution_count": 10,
   "metadata": {
    "scrolled": true
   },
   "outputs": [
    {
     "data": {
      "text/plain": [
       "54"
      ]
     },
     "execution_count": 10,
     "metadata": {},
     "output_type": "execute_result"
    }
   ],
   "source": [
    "sorted_counts[int(len(sorted_counts) * 1 / 12)]"
   ]
  },
  {
   "cell_type": "code",
   "execution_count": 11,
   "metadata": {},
   "outputs": [
    {
     "data": {
      "text/plain": [
       "(1644, 18673)"
      ]
     },
     "execution_count": 11,
     "metadata": {},
     "output_type": "execute_result"
    }
   ],
   "source": [
    "frequent_dictionary = {}\n",
    "count_threshold = 50\n",
    "\n",
    "for word in dictionary:\n",
    "    if dictionary[word] >= count_threshold: frequent_dictionary[word] = dictionary[word]\n",
    "        \n",
    "len(frequent_dictionary), len(dictionary)"
   ]
  },
  {
   "cell_type": "code",
   "execution_count": 12,
   "metadata": {},
   "outputs": [],
   "source": [
    "filtered_sentences = []\n",
    "\n",
    "for sentence in sentences:\n",
    "    words = set(sentence.split(' '))\n",
    "    include = True\n",
    "    for word in words:\n",
    "        if not word in frequent_dictionary: include = False\n",
    "    if include: filtered_sentences.append(sentence)"
   ]
  },
  {
   "cell_type": "code",
   "execution_count": 13,
   "metadata": {},
   "outputs": [
    {
     "data": {
      "text/plain": [
       "(67024, 131424)"
      ]
     },
     "execution_count": 13,
     "metadata": {},
     "output_type": "execute_result"
    }
   ],
   "source": [
    "len(filtered_sentences), len(sentences)"
   ]
  },
  {
   "cell_type": "markdown",
   "metadata": {},
   "source": [
    "### Tokenization and padding\n",
    "\n",
    "Now you will transform our filtered data into a format that is understandable by an ANN. To achieve that, you should transform words to integers, where single integers in the range [1,size of the dictionary] are mapped to single words in your dictionary. This process is commonly named 'tokenization'. In addition, we will keep the value 0 to a specific artificial word 'PADD' that will be used to account for the variable length of sentences and add to each sentence a 'START' and an 'END' word. \n",
    "\n",
    "**Code** Start by adding the three artificial words to your dictionary (list of possible tokens) and then translate every sentences to a list of integers. \n",
    "HINT: use the Python List index() method. [2 pts]\n",
    "\n",
    "**Figure** Use the violinplot to show the density of tokenized sentences length. [1pt]\n",
    "\n",
    "**Code** From this figure, select a maximum number (=maxlen) of tokens for which most of the sentences have less. Padd (and eventually truncate) all sentences with the 'PADD' token (value 0 in the integer representation) until all tokenized sentences have the same length (maxlen).\n",
    "HINT: use the pad_sequences function from keras.preprocessing.sequence [2 pts]\n",
    "\n",
    "**Code** Check that you can recover the original sentence. Randomly select two sentences from your integer and padded representation and translate them back using your dictionary. [1 pt]"
   ]
  },
  {
   "cell_type": "code",
   "execution_count": 14,
   "metadata": {},
   "outputs": [],
   "source": [
    "#TODO: think about word-integer assignment\n",
    "\n",
    "# Create tokenization dictionary that links words with their tokens\n",
    "word_to_token = {'PADD': 0, 'START': 1, 'END': 2}\n",
    "token_to_word = {0: 'PADD', 1: 'START', 2: 'END'}\n",
    "\n",
    "k = 3\n",
    "for word in frequent_dictionary:\n",
    "    word_to_token[word] = k\n",
    "    token_to_word[k] = word\n",
    "    k += 1"
   ]
  },
  {
   "cell_type": "code",
   "execution_count": 15,
   "metadata": {
    "scrolled": true
   },
   "outputs": [],
   "source": [
    "# transform dataset to tokenized dataset with 'START' and 'END' tokens\n",
    "\n",
    "tokenized_sentences = []\n",
    "\n",
    "for sentence in filtered_sentences:\n",
    "    token = [word_to_token['START']]\n",
    "    for word in sentence.split(' '):\n",
    "        token.append(word_to_token[word])\n",
    "    token.append(word_to_token['END'])\n",
    "    tokenized_sentences.append(token)"
   ]
  },
  {
   "cell_type": "code",
   "execution_count": 16,
   "metadata": {
    "scrolled": false
   },
   "outputs": [
    {
     "data": {
      "text/plain": [
       "Text(0.5, 1.0, 'Violinplot of Tokenized Sentences')"
      ]
     },
     "execution_count": 16,
     "metadata": {},
     "output_type": "execute_result"
    },
    {
     "data": {
      "image/png": "[encoded data removed]",
      "text/plain": [
       "<Figure size 1224x720 with 1 Axes>"
      ]
     },
     "metadata": {
      "needs_background": "light"
     },
     "output_type": "display_data"
    }
   ],
   "source": [
    "# plot violinplot\n",
    "lengths_of_tokenized_sentences = [len(tokenized_sentence) for tokenized_sentence in tokenized_sentences]\n",
    "\n",
    "plt.figure(figsize=(17, 10))\n",
    "plt.violinplot(lengths_of_tokenized_sentences)\n",
    "plt.title(\"Violinplot of Tokenized Sentences\")"
   ]
  },
  {
   "cell_type": "code",
   "execution_count": 17,
   "metadata": {},
   "outputs": [],
   "source": [
    "# pad the dataset\n",
    "maxlen = 25\n",
    "padded_tokenized_sentences=pad_sequences(tokenized_sentences, maxlen=maxlen, padding='post', truncating='post', value=word_to_token['PADD'])"
   ]
  },
  {
   "cell_type": "code",
   "execution_count": 18,
   "metadata": {},
   "outputs": [],
   "source": [
    "def tokenlisttosentence(tokenlist):\n",
    "    sentence = ''\n",
    "    for token in tokenlist[1:]:\n",
    "        if token == word_to_token['END']: break\n",
    "        else: sentence = sentence + token_to_word[token] + ' '\n",
    "    return sentence[:-1]"
   ]
  },
  {
   "cell_type": "code",
   "execution_count": 19,
   "metadata": {
    "scrolled": true
   },
   "outputs": [
    {
     "name": "stdout",
     "output_type": "stream",
     "text": [
      "original:  working is like a scary movie . maybe you should try fishing at a lake . recovered:  working is like a scary movie . maybe you should try fishing at a lake .\n",
      "original:  that is good for the mind and body recovered:  that is good for the mind and body\n"
     ]
    }
   ],
   "source": [
    "idx = np.random.randint(len(padded_tokenized_sentences))\n",
    "print(\"original: \", filtered_sentences[idx], \"recovered: \", tokenlisttosentence(padded_tokenized_sentences[idx]))\n",
    "idx = np.random.randint(len(padded_tokenized_sentences))\n",
    "print(\"original: \", filtered_sentences[idx], \"recovered: \", tokenlisttosentence(padded_tokenized_sentences[idx]))"
   ]
  },
  {
   "cell_type": "markdown",
   "metadata": {},
   "source": [
    "### Saving\n",
    "\n",
    "Now is a good time to save your data (end of processing). An example code using the pickle library is shown below.\n"
   ]
  },
  {
   "cell_type": "code",
   "execution_count": null,
   "metadata": {
    "collapsed": true
   },
   "outputs": [],
   "source": [
    "import pickle\n",
    "\n",
    "#save\n",
    "with open(\"data.pkl\", \"wb\") as file:\n",
    "    pickle.dump([filtered_sentences, dictionary, tokens], file)\n",
    "    \n",
    "#load\n",
    "with open(\"data.pkl\", \"rb\") as file:\n",
    "    [filtered_sentences, dictionary, tokens] = pickle.load(file)"
   ]
  },
  {
   "cell_type": "markdown",
   "metadata": {},
   "source": [
    "## Building and training generative models of language"
   ]
  },
  {
   "cell_type": "markdown",
   "metadata": {},
   "source": [
    "### RNN vs LSTM vs GRU \n",
    "\n",
    "Build, train and compare generative models of language based on RNNs with different recurrent units (SimpleRNN, GRU and LSTM). \n",
    "\n",
    "The target of the network will be to approximate the word transition probabilities Pr(word[n+1]|H[n]) with H[n]=f(word[:n]) being the hidden state of the network.  \n",
    "\n",
    "**code** You should complete the proposed model (using the Keras API rather than the Sequential model for more flexibility). Be sure to understand each line. The embedding layer allows to transform an integer to a dense vector. That would be our input to the recurrent network - each sentence is mapped to a sequence of vectors, each representing a single word. You can then design your own readout(s) and output layers. By default, use the proposed meta parameters. You can adapt them if you have more or less computing power (32 epochs should take around 30 minutes). [2 pts]\n",
    "\n",
    "**Question** How will your networks deal with the artificial word 'PADD' that you added at the end of each sentences  [2 pts]\n",
    "\n",
    "**Answer**\n",
    "\n",
    "**code** Then train three different networks with the same architecture but using different recurrent units (simpleRNN, GRU and LSTM). Save the learning history (training/validation loss and accuracy for each epoch) as well as the models. [1 pt]\n",
    "\n",
    "**Question** How can you use this network to approximate the word transition probabilities? What will be the inputs and targets of the network at each batch? Give the input/output tensor dimensions. [2 pts]\n",
    "\n",
    "**Answer**\n",
    "\n",
    "**Figure** Show the learning curves (training and validation loss) for the different recurrent units. [1 pt]\n",
    "\n",
    "**Figure** Show the learning curves (training and validation accuracy) for the different recurrent units. [1 pt]\n",
    "\n",
    "**Question:** Which recurrent unit yields the best validation accuracy? Which is the fastest learner? [1 pt]\n",
    "\n",
    "**Answer**: \n",
    "\n",
    "**Question:** Do you observe an overfitting effect? Where and for which case? Give a possible explanation. [1 pt] \n",
    "\n",
    "**Answer**: \n",
    "\n",
    "**Question:** Suggest one option modifying your dataset to decrease overfitting. [1 pt]\n",
    "\n",
    "**Answer**: \n",
    "\n",
    "**Question:** Suggest one possible option modifying your network to decrease overfitting. [1 pt]\n",
    "\n",
    "**Answer**: \n",
    "\n",
    "**Question:** Suggest one possible option modifying the training modalities to counter overfitting. [1 pt]   \n",
    "\n",
    "**Answer**: "
   ]
  },
  {
   "cell_type": "code",
   "execution_count": 20,
   "metadata": {},
   "outputs": [],
   "source": [
    "#Meta-parameters\n",
    "embedding_size = 128\n",
    "hidden_size = 64\n",
    "dropout = 0.\n",
    "recurrent_dropout = 0.\n",
    "\n",
    "batch_size = 64\n",
    "epochs = 32\n",
    "validation_split = 0.2\n",
    "\n",
    "dataset_cut = -1"
   ]
  },
  {
   "cell_type": "code",
   "execution_count": 21,
   "metadata": {},
   "outputs": [],
   "source": [
    "I = {}\n",
    "E = {}\n",
    "H = {}\n",
    "R = {}\n",
    "Y = {}\n",
    "models = {}\n",
    "logs = {}"
   ]
  },
  {
   "cell_type": "code",
   "execution_count": 22,
   "metadata": {},
   "outputs": [],
   "source": [
    "from keras.utils import to_categorical\n",
    "\n",
    "X = padded_tokenized_sentences\n",
    "T = to_categorical(X)\n",
    "maxlen=X.shape[1]\n",
    "tokens = list(token_to_word.keys())"
   ]
  },
  {
   "cell_type": "code",
   "execution_count": 23,
   "metadata": {
    "scrolled": false
   },
   "outputs": [
    {
     "name": "stdout",
     "output_type": "stream",
     "text": [
      "_________________________________________________________________\n",
      "Layer (type)                 Output Shape              Param #   \n",
      "=================================================================\n",
      "input (InputLayer)           (None, 24)                0         \n",
      "_________________________________________________________________\n",
      "embedding (Embedding)        (None, 24, 128)           210816    \n",
      "_________________________________________________________________\n",
      "simple_rnn_1 (SimpleRNN)     (None, 24, 64)            12352     \n",
      "_________________________________________________________________\n",
      "readout (TimeDistributed)    (None, 24, 128)           8320      \n",
      "_________________________________________________________________\n",
      "output (TimeDistributed)     (None, 24, 1647)          212463    \n",
      "=================================================================\n",
      "Total params: 443,951\n",
      "Trainable params: 443,951\n",
      "Non-trainable params: 0\n",
      "_________________________________________________________________\n",
      "(67024, 24) (67024, 24, 1647)\n",
      "Train on 53618 samples, validate on 13405 samples\n",
      "Epoch 1/32\n",
      "53618/53618 [==============================] - 105s 2ms/step - loss: 3.8218 - acc: 0.3092 - val_loss: 3.2829 - val_acc: 0.3718\n",
      "Epoch 2/32\n",
      "53618/53618 [==============================] - 108s 2ms/step - loss: 3.1707 - acc: 0.3810 - val_loss: 3.0960 - val_acc: 0.3887\n",
      "Epoch 3/32\n",
      "53618/53618 [==============================] - 108s 2ms/step - loss: 3.0278 - acc: 0.3940 - val_loss: 3.0221 - val_acc: 0.3945\n",
      "Epoch 4/32\n",
      "53618/53618 [==============================] - 108s 2ms/step - loss: 2.9461 - acc: 0.4022 - val_loss: 2.9684 - val_acc: 0.4026\n",
      "Epoch 5/32\n",
      "53618/53618 [==============================] - 106s 2ms/step - loss: 2.8894 - acc: 0.4069 - val_loss: 2.9377 - val_acc: 0.4065\n",
      "Epoch 6/32\n",
      "53618/53618 [==============================] - 106s 2ms/step - loss: 2.8464 - acc: 0.4109 - val_loss: 2.9181 - val_acc: 0.4077\n",
      "Epoch 7/32\n",
      "53618/53618 [==============================] - 106s 2ms/step - loss: 2.8103 - acc: 0.4143 - val_loss: 2.9018 - val_acc: 0.4086\n",
      "Epoch 8/32\n",
      "53618/53618 [==============================] - 107s 2ms/step - loss: 2.7810 - acc: 0.4165 - val_loss: 2.8909 - val_acc: 0.4100\n",
      "Epoch 9/32\n",
      "53618/53618 [==============================] - 107s 2ms/step - loss: 2.7551 - acc: 0.4188 - val_loss: 2.8856 - val_acc: 0.4102\n",
      "Epoch 10/32\n",
      "53618/53618 [==============================] - 107s 2ms/step - loss: 2.7331 - acc: 0.4210 - val_loss: 2.8757 - val_acc: 0.4117\n",
      "Epoch 11/32\n",
      "53618/53618 [==============================] - 107s 2ms/step - loss: 2.7136 - acc: 0.4232 - val_loss: 2.8748 - val_acc: 0.4124\n",
      "Epoch 12/32\n",
      "53618/53618 [==============================] - 107s 2ms/step - loss: 2.6956 - acc: 0.4243 - val_loss: 2.8734 - val_acc: 0.4133\n",
      "Epoch 13/32\n",
      "53618/53618 [==============================] - 107s 2ms/step - loss: 2.6802 - acc: 0.4259 - val_loss: 2.8718 - val_acc: 0.4142\n",
      "Epoch 14/32\n",
      "53618/53618 [==============================] - 107s 2ms/step - loss: 2.6657 - acc: 0.4269 - val_loss: 2.8739 - val_acc: 0.4124\n",
      "Epoch 15/32\n",
      "53618/53618 [==============================] - 108s 2ms/step - loss: 2.6526 - acc: 0.4280 - val_loss: 2.8730 - val_acc: 0.4134\n",
      "Epoch 16/32\n",
      "53618/53618 [==============================] - 110s 2ms/step - loss: 2.6412 - acc: 0.4293 - val_loss: 2.8691 - val_acc: 0.4148\n",
      "Epoch 17/32\n",
      "53618/53618 [==============================] - 110s 2ms/step - loss: 2.6298 - acc: 0.4306 - val_loss: 2.8724 - val_acc: 0.4151\n",
      "Epoch 18/32\n",
      "53618/53618 [==============================] - 110s 2ms/step - loss: 2.6191 - acc: 0.4315 - val_loss: 2.8758 - val_acc: 0.4134\n",
      "Epoch 19/32\n",
      "53618/53618 [==============================] - 108s 2ms/step - loss: 2.6097 - acc: 0.4324 - val_loss: 2.8800 - val_acc: 0.4152\n",
      "Epoch 20/32\n",
      "53618/53618 [==============================] - 108s 2ms/step - loss: 2.6012 - acc: 0.4333 - val_loss: 2.8811 - val_acc: 0.4138\n",
      "Epoch 21/32\n",
      "53618/53618 [==============================] - 108s 2ms/step - loss: 2.5921 - acc: 0.4337 - val_loss: 2.8890 - val_acc: 0.4154\n",
      "Epoch 22/32\n",
      "53618/53618 [==============================] - 108s 2ms/step - loss: 2.5852 - acc: 0.4343 - val_loss: 2.8851 - val_acc: 0.4149\n",
      "Epoch 23/32\n",
      "53618/53618 [==============================] - 108s 2ms/step - loss: 2.5774 - acc: 0.4353 - val_loss: 2.8869 - val_acc: 0.4156\n",
      "Epoch 24/32\n",
      "53618/53618 [==============================] - 107s 2ms/step - loss: 2.5705 - acc: 0.4356 - val_loss: 2.8918 - val_acc: 0.4146\n",
      "Epoch 25/32\n",
      "53618/53618 [==============================] - 107s 2ms/step - loss: 2.5639 - acc: 0.4365 - val_loss: 2.8948 - val_acc: 0.4151\n",
      "Epoch 26/32\n",
      "53618/53618 [==============================] - 107s 2ms/step - loss: 2.5574 - acc: 0.4370 - val_loss: 2.9021 - val_acc: 0.4134\n",
      "Epoch 27/32\n",
      "53618/53618 [==============================] - 107s 2ms/step - loss: 2.5516 - acc: 0.4380 - val_loss: 2.8994 - val_acc: 0.4135\n",
      "Epoch 28/32\n",
      "53618/53618 [==============================] - 107s 2ms/step - loss: 2.5465 - acc: 0.4383 - val_loss: 2.9043 - val_acc: 0.4158\n",
      "Epoch 29/32\n",
      "53618/53618 [==============================] - 109s 2ms/step - loss: 2.5410 - acc: 0.4388 - val_loss: 2.9089 - val_acc: 0.4137\n",
      "Epoch 30/32\n",
      "53618/53618 [==============================] - 108s 2ms/step - loss: 2.5366 - acc: 0.4389 - val_loss: 2.9112 - val_acc: 0.4154\n",
      "Epoch 31/32\n",
      "53618/53618 [==============================] - 108s 2ms/step - loss: 2.5319 - acc: 0.4393 - val_loss: 2.9149 - val_acc: 0.4144\n",
      "Epoch 32/32\n",
      "53618/53618 [==============================] - 109s 2ms/step - loss: 2.5270 - acc: 0.4400 - val_loss: 2.9189 - val_acc: 0.4159\n"
     ]
    }
   ],
   "source": [
    "#Model suggestion\n",
    "\n",
    "I['RNN'] = Input(shape=(maxlen-1,), name=\"input\")\n",
    "E['RNN'] = Embedding(len(tokens), embedding_size, mask_zero=True, name=\"embedding\")\n",
    "\n",
    "#your network here\n",
    "H['RNN'] = SimpleRNN(units=hidden_size, return_sequences=True, dropout=dropout, recurrent_dropout=recurrent_dropout)(E['RNN'](I['RNN']))  #... Recurrent layer(s)\n",
    "\n",
    "R['RNN'] = TimeDistributed(Dense(embedding_size, activation='relu'), name='readout')(H['RNN'])  #... Readout\n",
    "Y['RNN'] = TimeDistributed(Dense(len(tokens), activation='softmax'), name='output')(R['RNN'])  #... Output\n",
    "\n",
    "models['RNN'] = Model(inputs = [I['RNN']], outputs = [Y['RNN']])\n",
    "models['RNN'].compile(\n",
    "    loss='categorical_crossentropy', \n",
    "    optimizer=Adam(),\n",
    "    metrics=['acc'])\n",
    "models['RNN'].summary()\n",
    "\n",
    "print(X[:,:-1].shape, T[:,1:].shape)\n",
    "logs['RNN'] = models['RNN'].fit({'input': X[:dataset_cut,:-1]}, {'output': T[:dataset_cut,1:]}, \n",
    "                                    epochs=epochs, \n",
    "                                    validation_split=validation_split, \n",
    "                                    batch_size=batch_size).history\n",
    "\n",
    "#save\n",
    "with open(\"RNNmodel_\"+str(embedding_size)+'_'+str(hidden_size)+\"_log.pkl\", \"wb\") as file:\n",
    "    pickle.dump(logs['RNN'], file)\n",
    "models['RNN'].save(\"RNNmodel_\"+str(embedding_size)+'_'+str(hidden_size))"
   ]
  },
  {
   "cell_type": "code",
   "execution_count": 28,
   "metadata": {},
   "outputs": [],
   "source": [
    "#load\n",
    "with open(\"RNNmodel_\"+str(embedding_size)+'_'+str(hidden_size)+\"_log.pkl\", \"rb\") as file:\n",
    "    RNNmodel_log = pickle.load(file)\n",
    "RNNmodel = load_model(\"RNNmodel_\"+str(embedding_size)+'_'+str(hidden_size))"
   ]
  },
  {
   "cell_type": "code",
   "execution_count": null,
   "metadata": {
    "collapsed": true
   },
   "outputs": [],
   "source": []
  },
  {
   "cell_type": "code",
   "execution_count": null,
   "metadata": {
    "collapsed": true
   },
   "outputs": [],
   "source": []
  },
  {
   "cell_type": "code",
   "execution_count": null,
   "metadata": {
    "collapsed": true
   },
   "outputs": [],
   "source": []
  },
  {
   "cell_type": "code",
   "execution_count": null,
   "metadata": {
    "collapsed": true
   },
   "outputs": [],
   "source": []
  },
  {
   "cell_type": "code",
   "execution_count": null,
   "metadata": {
    "collapsed": true
   },
   "outputs": [],
   "source": []
  },
  {
   "cell_type": "code",
   "execution_count": null,
   "metadata": {
    "collapsed": true
   },
   "outputs": [],
   "source": []
  },
  {
   "cell_type": "code",
   "execution_count": null,
   "metadata": {
    "collapsed": true
   },
   "outputs": [],
   "source": []
  },
  {
   "cell_type": "markdown",
   "metadata": {},
   "source": [
    "### Optimal network size\n",
    "\n",
    "Compare the learning curves for three networks with 64 (previous exercise), 128 and 256 GRUs (single layer) and one with two hidden layers of 64 GRUs. \n",
    "\n",
    "**Code** Build and train the networks. Apply EarlyStopping (monitor='val_acc', min_delta=0.001, patience=2). Use transfer learning, do not train from scratch your embedding layer, rather re-use the embedding layer from your best performing network in the last exercise. [4 pts]\n",
    "\n",
    "**Figure** Show the learning curves (training and validation loss) for the four models. [1 pt]\n",
    "\n",
    "**Figure** Show the learning curves (training and validation accuracy) for the four models. [1 pt]\n",
    "\n",
    "**Question** List and briefly explain the differences in the learning curves for the different models? [2 pts]\n",
    "\n",
    "**Answer**\n",
    "\n",
    "**Question** What effect had EarlyStopping? Give one advantage and one drawback. [2 pts]\n",
    "\n",
    "**Answer**\n",
    "\n",
    "**Question** What is your best model? Why? [1 pt]\n",
    "\n",
    "**Answer**\n",
    "\n"
   ]
  },
  {
   "cell_type": "code",
   "execution_count": null,
   "metadata": {},
   "outputs": [],
   "source": []
  },
  {
   "cell_type": "code",
   "execution_count": null,
   "metadata": {},
   "outputs": [],
   "source": []
  },
  {
   "cell_type": "code",
   "execution_count": null,
   "metadata": {},
   "outputs": [],
   "source": []
  },
  {
   "cell_type": "code",
   "execution_count": null,
   "metadata": {
    "collapsed": true
   },
   "outputs": [],
   "source": []
  },
  {
   "cell_type": "code",
   "execution_count": null,
   "metadata": {},
   "outputs": [],
   "source": []
  },
  {
   "cell_type": "markdown",
   "metadata": {},
   "source": [
    "### Generate sentences\n",
    "\n",
    "Now you will generate new sentences from your best performing model.\n",
    "\n",
    "**Code** To achieve that, use the provided sample function below to generate new sentences from your model. You should start by constructing a sentence that starts with the 'START' artificial word and all other words being the 'PADD' artificial word. Then sample the first word from the corresponding probabilities given by your model. Add this word to the sentence and continue like this until you sample the 'END' artificial word or the maximum sentence length. [2 pts]\n",
    "\n",
    "**Code** Generate 10 sentences for different sampling temperature in [0., 0.25, 0.5, 0.75, 1., 1.5., 2.]. [1 pt]\n",
    "\n",
    "**7 Figures** For each temperature, use matplotlib imshow to plot the probablities of every word in one generated sentence (and only these words) at each time step. y-axis should be the words that are present in the sentence. x-axis the timesteps and the imshow value the probabilities given by the model for all words in the sentence at each timestep. Use the a colormap where 0 is white, e.g. cmap='Greys'. [2 pts]\n",
    "\n",
    "**Code** Finally, seed your model with two different beginnings of max 4 words and let it generate 10 possible continuations (use sampling temperature of 1.). [2 pts]\n",
    "\n",
    "**Question** What is the effect of sampling temperature on the generated sentences? [1 pt]\n",
    "\n",
    "**Answer**\n",
    "\n",
    "**Question** In terms of sampling a probability distribution, what does a sampling temperature of 0 corresponds to? [1 pt] \n",
    "\n",
    "**Answer**\n",
    "\n",
    "**Question** In terms of sampling a probability distribution, what does a sampling temperature of 1. corresponds to? [1 pt] \n",
    "\n",
    "**Answer**\n",
    "\n",
    "**Question** In terms of sampling a probability distribution, what does a very high sampling temperature corresponds to? [1 pt]\n",
    "\n",
    "**Answer**\n",
    "\n",
    "**Question** Based on the plotted word probabilities, explain how a sentence is generated. [2 pts]\n",
    "\n",
    "**Answer**\n",
    "\n",
    "**Question** Do you observe timesteps with more than one word with non-zero probability? How do these probable words relate in terms of language? [1 pt]\n",
    "\n",
    "**Answer**"
   ]
  },
  {
   "cell_type": "code",
   "execution_count": 141,
   "metadata": {},
   "outputs": [],
   "source": [
    "def sample(preds, temperature=1.):\n",
    "    # helper function to sample an index from a probability array\n",
    "    if temperature == 0.:\n",
    "        return np.argmax(preds)\n",
    "    preds = np.asarray(preds).astype('float64')\n",
    "    preds = np.log(preds) / temperature\n",
    "    exp_preds = np.exp(preds)\n",
    "    preds = exp_preds / np.sum(exp_preds)\n",
    "    probas = np.random.multinomial(1, preds, 1)\n",
    "    return np.argmax(probas)\n"
   ]
  },
  {
   "cell_type": "code",
   "execution_count": 142,
   "metadata": {},
   "outputs": [
    {
     "name": "stderr",
     "output_type": "stream",
     "text": [
      "/home/soner/anaconda3/envs/ann2019/lib/python3.6/site-packages/ipykernel_launcher.py:2: RuntimeWarning: divide by zero encountered in log\n",
      "  \n"
     ]
    },
    {
     "data": {
      "text/plain": [
       "-inf"
      ]
     },
     "execution_count": 142,
     "metadata": {},
     "output_type": "execute_result"
    }
   ],
   "source": [
    "# TOExplanation of RuntimeWarning: divide by zero encountered in log\n",
    "# It happens in sample function\n",
    "np.log(0)"
   ]
  },
  {
   "cell_type": "code",
   "execution_count": 135,
   "metadata": {},
   "outputs": [],
   "source": [
    "def generate(model, temperature = 1.):\n",
    "    token_list = np.zeros((1, maxlen - 1)).astype('int32')\n",
    "    next_token = 1 # 'START'\n",
    "    token_list[0,0] = next_token\n",
    "    i = 1\n",
    "    while not next_token == word_to_token['END'] and not i == maxlen - 1:\n",
    "        preds = RNNmodel.predict(token_list)\n",
    "        next_token = sample(preds.squeeze()[i - 1, :], temperature)\n",
    "        token_list[0, i] = next_token\n",
    "        i += 1\n",
    "    \n",
    "    sentence = tokenlisttosentence(token_list.squeeze())\n",
    "    #print(\"token list:\", token_list)\n",
    "    print(\"sentence:\", sentence)\n",
    "    \n",
    "    return token_list, sentence\n",
    "    "
   ]
  },
  {
   "cell_type": "code",
   "execution_count": 136,
   "metadata": {},
   "outputs": [
    {
     "name": "stdout",
     "output_type": "stream",
     "text": [
      "sentence: that sounds like a job at home and i am not alone\n",
      "sentence: its amazing . how often do you work ?\n",
      "sentence: that is cool . is that mean you go with a family ?\n",
      "sentence: are you ? are your last class ?\n",
      "sentence: i cannot believe a clothes that help my siblings\n",
      "sentence: ok exciting . hows your day\n",
      "sentence: doing good . working on in front with my brother .\n",
      "sentence: i started so proud of watching sports and a band what about you\n",
      "sentence: i hunt too ! its all i have a cat\n",
      "sentence: listening to music . do you have hobbies ?\n"
     ]
    },
    {
     "name": "stderr",
     "output_type": "stream",
     "text": [
      "/home/soner/anaconda3/envs/ann2019/lib/python3.6/site-packages/ipykernel_launcher.py:6: RuntimeWarning: divide by zero encountered in log\n",
      "  \n"
     ]
    }
   ],
   "source": [
    "for i in range(10):\n",
    "    generate(RNNmodel);"
   ]
  },
  {
   "cell_type": "code",
   "execution_count": 140,
   "metadata": {
    "scrolled": true
   },
   "outputs": [
    {
     "name": "stdout",
     "output_type": "stream",
     "text": [
      "sentence: i am doing well ! how about you ?\n",
      "sentence: i am a student and i like to take my dogs to the park .\n",
      "sentence: i am also a student . how about you ?\n",
      "sentence: i am sure you are busy . what do you do for fun ?\n",
      "sentence: hi ! how are you today ?\n",
      "sentence: i am doing great thanks for asking\n",
      "sentence: i am doing great . how are you ?\n",
      "sentence: i like to read a lot of crime novels .\n",
      "sentence: i am doing well . how are you ?\n",
      "sentence: i do not really have time . i am a stay at home mom .\n"
     ]
    },
    {
     "name": "stderr",
     "output_type": "stream",
     "text": [
      "/home/soner/anaconda3/envs/ann2019/lib/python3.6/site-packages/ipykernel_launcher.py:6: RuntimeWarning: divide by zero encountered in log\n",
      "  \n"
     ]
    }
   ],
   "source": [
    "for i in range(10):\n",
    "    generate(RNNmodel, 0.5);"
   ]
  },
  {
   "cell_type": "code",
   "execution_count": 137,
   "metadata": {},
   "outputs": [
    {
     "name": "stdout",
     "output_type": "stream",
     "text": [
      "sentence: i am doing well . how are you ?\n",
      "sentence: i am doing well . how are you ?\n",
      "sentence: i am doing well . how are you ?\n",
      "sentence: i am good . how are you ?\n",
      "sentence: i am doing well . how are you ?\n",
      "sentence: i am doing well . how are you ?\n",
      "sentence: i am doing well . how are you ?\n",
      "sentence: i am doing well . how are you ?\n",
      "sentence: i am doing well . how are you ?\n",
      "sentence: i am doing well . how are you ?\n"
     ]
    },
    {
     "name": "stderr",
     "output_type": "stream",
     "text": [
      "/home/soner/anaconda3/envs/ann2019/lib/python3.6/site-packages/ipykernel_launcher.py:6: RuntimeWarning: divide by zero encountered in log\n",
      "  \n"
     ]
    }
   ],
   "source": [
    "for i in range(10):\n",
    "    generate(RNNmodel, 0.1);"
   ]
  },
  {
   "cell_type": "markdown",
   "metadata": {},
   "source": [
    "###  Word embedding visualization\n",
    "\n",
    "Here, you are asked to visualize the embedding layer. \n",
    "\n",
    "**Code** To do that, project in 2D the embedding vectors for different words. Use t-SNE, a projection that conserve the neighborhood relationships between vectors. HINT: Build a Keras model that takes as input a list of words and outputs a list of vector embeddings as learned by your best performing model. Use t-SNE dimensionality reduction (from sklearn.manifold import TSNE). [2 pts]\n",
    "\n",
    "**Figure** Plot the projection of the first 200 most frequent words in a 2D plot. On the plot, write the words. [2 pt] \n",
    "\n",
    "**Question** Do you observe clusters of words with similar meaning or role in language? Report three of them here. [1 pt]\n",
    "\n",
    "**Answer**\n",
    "\n",
    "**Question** Why is having similar vector representation for similar words a good approach for such models? Explain using the example clusters from before and argue in terms of prediction accuracy and/or generalization. [2 pts]\n",
    "\n",
    "**Answer**"
   ]
  },
  {
   "cell_type": "code",
   "execution_count": null,
   "metadata": {
    "scrolled": true
   },
   "outputs": [],
   "source": []
  },
  {
   "cell_type": "code",
   "execution_count": null,
   "metadata": {},
   "outputs": [],
   "source": []
  },
  {
   "cell_type": "code",
   "execution_count": null,
   "metadata": {
    "scrolled": true
   },
   "outputs": [],
   "source": []
  },
  {
   "cell_type": "markdown",
   "metadata": {},
   "source": [
    "## Chatbot\n",
    "\n",
    "Finally, you will construct a model with which you can chat. The network will take as input a sentence and output a response.\n",
    "\n",
    "**Code** For that, you should go back to your original data and construct a new dataset containing pairs of sentences, where each pair is a sentence and its answer. Be careful to not include any pair of sentences that contains words not present in your filtered dictionary. [2 pts]\n",
    "\n",
    "**Code** You should then tokenize, padd, truncate each sentence. Only the answers need the 'START' and 'END' artificial words. [1 pt]\n",
    "\n",
    "We provide you with a possible model, you are welcome to change it. This model uses an LSTM layer to encode the first sentence (the context). The final state of this LSTM layer is transfered to initialize the state of a decoder LSTM layer from which the answer sentence will be generated. \n",
    "\n",
    "**Code** Train your chatbot model on your dataset. [1 pt]\n",
    "\n",
    "**Code** Adapt your sentence generation code from before so that you can generate an answer given a context sentence from your model. [2 pts] \n",
    "\n",
    "**Code** After training, randomly select 10 context-answers pairs from your data and show both the real answer (the one from the data) and the generated one for two different sampling temperatures (e.g. 0.5 and 1.0). [2 pts]\n",
    "\n",
    "**Question** How similar are the generated answers and the real ones? Does your model provide probable answers (given the dataset)? Report here one good and one bad example. [2 pts]\n",
    "\n",
    "**Answer**\n",
    "\n",
    "**Question** Which sampling temperature gives better answers? why? [2 pts]\n",
    "\n",
    "**Answer**\n",
    "\n",
    "**Question** Would it be good if your model was able to reproduce exactly each real answer? Why? [1 pt]\n",
    "\n",
    "**Answer**\n",
    "\n",
    "**Code** Entertain yourself with your model. Write some code to chat with your bot, let it discuss with itself, ... be creative! [2 **bonus** pts]\n",
    "\n",
    "\n"
   ]
  },
  {
   "cell_type": "code",
   "execution_count": null,
   "metadata": {
    "collapsed": true
   },
   "outputs": [],
   "source": []
  },
  {
   "cell_type": "code",
   "execution_count": null,
   "metadata": {
    "collapsed": true
   },
   "outputs": [],
   "source": []
  },
  {
   "cell_type": "code",
   "execution_count": null,
   "metadata": {
    "collapsed": true
   },
   "outputs": [],
   "source": []
  },
  {
   "cell_type": "code",
   "execution_count": null,
   "metadata": {
    "collapsed": true
   },
   "outputs": [],
   "source": [
    "context = Input(shape=(maxlen-2,), name=\"input_context\")\n",
    "shared_embedding = E['GRU']\n",
    "context_embedding = shared_embedding(context)\n",
    "\n",
    "encoder_y, encoder_h, encoder_c = LSTM(hidden_size, \n",
    "            return_sequences=False,\n",
    "            return_state=True,\n",
    "            stateful=False,\n",
    "            dropout=dropout,\n",
    "            recurrent_dropout=recurrent_dropout,\n",
    "            go_backwards=True,\n",
    "            name=\"encoder\")(context_embedding)\n",
    "\n",
    "answer = Input(shape=(maxlen-1,), name=\"input_answer\")\n",
    "answer_embedding = shared_embedding(answer)\n",
    "\n",
    "decoder_input = answer_embedding\n",
    "decoder = LSTM(hidden_size, \n",
    "            return_sequences=True,\n",
    "            stateful=False,\n",
    "            dropout=dropout,\n",
    "            recurrent_dropout=recurrent_dropout,\n",
    "            name=\"decoder\")(answer_embedding, initial_state=[encoder_h, encoder_c])\n",
    "# decoder2 = LSTM(hidden_size, \n",
    "#             return_sequences=True,\n",
    "#             stateful=False,\n",
    "#             dropout=dropout,\n",
    "#             recurrent_dropout=recurrent_dropout,\n",
    "#             name=\"decoder2\")(decoder)\n",
    "\n",
    "R = TimeDistributed(Dense(embedding_size, activation='relu'), name='readout')(decoder)\n",
    "Y = TimeDistributed(Dense(len(tokens), activation='softmax'), name='output')(R)\n",
    "\n",
    "Chatbot = Model(inputs = [context, answer], outputs = [Y])\n",
    "Chatbot.compile(\n",
    "    loss='categorical_crossentropy', \n",
    "    optimizer=Adam(),\n",
    "    metrics=['acc'])\n",
    "Chatbot.summary()\n"
   ]
  },
  {
   "cell_type": "code",
   "execution_count": null,
   "metadata": {
    "scrolled": true
   },
   "outputs": [],
   "source": []
  },
  {
   "cell_type": "code",
   "execution_count": null,
   "metadata": {
    "collapsed": true
   },
   "outputs": [],
   "source": []
  },
  {
   "cell_type": "code",
   "execution_count": null,
   "metadata": {
    "collapsed": true
   },
   "outputs": [],
   "source": []
  },
  {
   "cell_type": "markdown",
   "metadata": {},
   "source": [
    "---"
   ]
  }
 ],
 "metadata": {
  "kernelspec": {
   "display_name": "ann2019",
   "language": "python",
   "name": "ann2019"
  },
  "language_info": {
   "codemirror_mode": {
    "name": "ipython",
    "version": 3
   },
   "file_extension": ".py",
   "mimetype": "text/x-python",
   "name": "python",
   "nbconvert_exporter": "python",
   "pygments_lexer": "ipython3",
   "version": "3.6.7"
  }
 },
 "nbformat": 4,
 "nbformat_minor": 2
}
