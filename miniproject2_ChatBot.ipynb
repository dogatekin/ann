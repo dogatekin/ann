{
 "cells": [
  {
   "cell_type": "markdown",
   "metadata": {},
   "source": [
    "# Miniproject 2: Chatbot\n",
    "\n",
    "## Introduction\n",
    "\n",
    "### Description\n",
    "\n",
    "Developing a model employing ANN on real-world data requires going through several major steps, each of which with \n",
    "important design choices that directly impact the final results. \n",
    "In this project, we guide you through these choices starting from a large database of \n",
    "[conversations](http://parl.ai/downloads/personachat/personachat.tgz) to a functional chatbot. \n",
    "\n",
    "### Prerequisites\n",
    "\n",
    "- You should have a running installation of [tensorflow](https://www.tensorflow.org/install/) and [keras](https://keras.io/).\n",
    "- You should know the concepts \"recurrent neural networks\", \"LSTM\", \"training and validation data\", \"overfitting\" and \"early stopping\".\n",
    "\n",
    "### What you will learn\n",
    "\n",
    "- You will be guided through a data processing procedure and understand the importance of design choices in ANN modeling\n",
    "- You will learn how to define recurrent neural networks in keras and fit them to data.\n",
    "- You will be guided through a prototyping procedure for the application of deep learning to a specific domain.\n",
    "- You will get in contact with concepts discussed in the lecture, like \"overfitting\", \"LSTM network\", and \"Generative model\".\n",
    "- You will learn to be more patient :) Some fits may take your computer quite a bit of time; run them over night and make sure you save (and load) your data and models.\n",
    "\n",
    "### Evaluation criteria\n",
    "\n",
    "The evaluation is (mostly) based on the figures you submit and your answer sentences. \n",
    "We will only do random tests of your code and not re-run the full notebook. \n",
    "Please ensure that your notebook is fully executed before handing it in. \n",
    "\n",
    "### Submission \n",
    "\n",
    "You should submit your notebook through the Moodle page submission tool. You should work in teams of two people and each member should submit the same notebook to Moodle.\n",
    "\n"
   ]
  },
  {
   "cell_type": "markdown",
   "metadata": {},
   "source": [
    "## Functions and imports\n",
    "\n",
    "For your convenience we import some libraries and provide some functions below. Fill in your names, sciper numbers and run the following cell."
   ]
  },
  {
   "cell_type": "code",
   "execution_count": 25,
   "metadata": {},
   "outputs": [],
   "source": [
    "names = {'student_1': \"Doga Tekin\",\n",
    "        'student_2': \"Serif Soner Serbest\"}\n",
    "\n",
    "sciper = {'student_1': 293688, \n",
    "          'student_2': 294910}\n",
    "\n",
    "seed = sciper['student_1']+sciper['student_2']\n",
    "\n",
    "%matplotlib inline\n",
    "\n",
    "import numpy as np\n",
    "import matplotlib.pyplot as plt\n",
    "import os, sys\n",
    "import copy\n",
    "import pickle\n",
    "\n",
    "plt.rcParams['font.size'] = 28\n",
    "plt.style.use('ggplot')\n",
    "plt.rcParams[\"axes.grid\"] = False\n",
    "c = plt.rcParams['axes.prop_cycle'].by_key()['color']\n",
    "\n",
    "import keras\n",
    "from keras.models import Model, load_model\n",
    "from keras.layers import Input, Masking, TimeDistributed, Dense, Concatenate, Dropout, LSTM, GRU, SimpleRNN, Bidirectional, Embedding, BatchNormalization\n",
    "from keras.optimizers import Adam\n",
    "from keras.utils import np_utils\n",
    "from keras.preprocessing.sequence import pad_sequences\n",
    "from keras.callbacks import ModelCheckpoint, EarlyStopping\n",
    "\n",
    "\n",
    "def getRawDataFromFile(datapath=\"data/personachat/\", file=\"train_both_revised.txt\"):\n",
    "    \n",
    "    f = open(datapath+file)\n",
    "\n",
    "    conversations = []\n",
    "    current_conversation = []\n",
    "    \n",
    "    for l, line in enumerate(f):\n",
    "        #print(l, line)\n",
    "        if \"persona:\" in line:\n",
    "            if len(current_conversation) > 1:\n",
    "                conversations.append(current_conversation)\n",
    "            current_conversation = [] \n",
    "            continue\n",
    "\n",
    "        #remove numberings\n",
    "        processed_line = line.split(' ')\n",
    "        processed_line = \" \".join(processed_line[1:])\n",
    "        line = processed_line\n",
    "        #print(line)\n",
    "\n",
    "        conv = line.split('\\t')    \n",
    "        q = conv[0]\n",
    "        a = conv[1]\n",
    "        current_conversation.append(q)\n",
    "        current_conversation.append(a)\n",
    "    \n",
    "    return conversations "
   ]
  },
  {
   "cell_type": "markdown",
   "metadata": {
    "collapsed": true
   },
   "source": [
    "## Data visualization and preprocessing\n",
    "\n",
    "Here we will process and visualize the data.\n"
   ]
  },
  {
   "cell_type": "markdown",
   "metadata": {},
   "source": [
    "### Parse raw data \n",
    "\n",
    "Download the dataset on http://parl.ai/downloads/personachat/personachat.tgz. Unpack it and add it to your project folder. Read and run the getRawDataFromFile function (if needed, modify the default path). It extracts the conversations.\n",
    "\n",
    "**Output** Display two randomly selected conversations. [1 pt]"
   ]
  },
  {
   "cell_type": "code",
   "execution_count": 26,
   "metadata": {},
   "outputs": [
    {
     "data": {
      "text/plain": [
       "[['hello there . how are you ?',\n",
       "  'good . just finished doing my laundry .',\n",
       "  'i need to do mine . it is all dirty from hiking up volcanoes .',\n",
       "  'just throw it all in together !',\n",
       "  'i may . after i finish my ginger snaps .',\n",
       "  'yum . what color is your hair ?',\n",
       "  'my hair is black and gray .',\n",
       "  'mine is the color of the sky and also pumpkins',\n",
       "  'that sounds pretty . i sometimes relieve myself on the roses .',\n",
       "  'and people call me strange ! i am lazy enough to do that too !',\n",
       "  'i am also quite attracted to canadian women .',\n",
       "  'what do they look like ?',\n",
       "  'hard to describe . they smell like syrup .',\n",
       "  'interesting . i think it would make me hungry for waffles .',\n",
       "  'i am always hungry for waffles .',\n",
       "  'hey , i am too ! i also like pancakes .'],\n",
       " ['hello how are you doing ?',\n",
       "  'doing great thanks . what have you been up to lately ?',\n",
       "  'just got back from the beach it is my favorite place . you ?',\n",
       "  're evaluating where i am in life and bug watching .',\n",
       "  'bug watching is fun . do you read ?',\n",
       "  'i read some books about military and politics . what do you read ?',\n",
       "  'i really like biographies . what kind of bugs are you watching ?',\n",
       "  't . benedict is a great biography about a navy amiral . it is worth the read . butterflies .',\n",
       "  'butterfly watching is very calming i think .',\n",
       "  'i started after i ran for lt . governor in 2004 . what do you do for a living ?',\n",
       "  'wow that is amazing . been a lifeguard for 7 years now .',\n",
       "  'fun in the sun ! how do you like lifeguarding ?',\n",
       "  'it is a great job to have . by the beach , water , sand helping people .',\n",
       "  'awesome . i felt great helping people fix their cars for 6 years .',\n",
       "  'then lt governed that is quite the career change',\n",
       "  'well , i did not get elected . it was a fun race though .']]"
      ]
     },
     "execution_count": 26,
     "metadata": {},
     "output_type": "execute_result"
    }
   ],
   "source": [
    "conversations = getRawDataFromFile()\n",
    "\n",
    "list(np.random.choice(conversations, size=2, replace=False))"
   ]
  },
  {
   "cell_type": "markdown",
   "metadata": {},
   "source": [
    "### Extract word tokens\n",
    "\n",
    "Let's start looking at our data. \n",
    "\n",
    "**Code** Compute the set of unique words (dictionary) in all sentences along with the number of occurences of each of these words. HINT: each word is separated by a space character, use the python string.split(' ') function to separate words. Consider punctuations as 'words'. [1 pt]\n",
    "\n",
    "**Figure** In a bar plot, show the first 75 most frequent words (x-axis) and their number of occurences (y-axis). [1 pt]\n",
    "\n",
    "**Figure** In another bar plot, show the 75 least frequent words (x-axis) and their number of occurences (y-axis). [1 pt] \n",
    "\n",
    "**Figure** In a log-log scale, plot the sorted word index (x-axis) vs their respective count (y-axis). [1 pt]\n",
    "\n",
    "**Question** Relate the sorted word count distribution with Zipf's law.\n",
    "Argue using the log-log plot. [1 pt]\n",
    "\n",
    "**Answer** *Zipf's law states that the frequenct of any word is inversely proportional to its rank in a corpus which can be observed as a line in log-log scale. We observed a almost linearly plot which conforms to Zipf's Law.*  \n",
    "\n",
    "**Question** How many words appear only once in the entire dataset? [1 pt]\n",
    "\n",
    "**Answer** *7080*\n",
    "\n"
   ]
  },
  {
   "cell_type": "code",
   "execution_count": 27,
   "metadata": {
    "scrolled": false
   },
   "outputs": [],
   "source": [
    "from collections import Counter"
   ]
  },
  {
   "cell_type": "code",
   "execution_count": 28,
   "metadata": {
    "scrolled": true
   },
   "outputs": [],
   "source": [
    "sentences = [sentence for conversation in conversations for sentence in conversation]\n",
    "\n",
    "words = ' '.join(sentences)\n",
    "dictionary = Counter(words.split(' '))"
   ]
  },
  {
   "cell_type": "markdown",
   "metadata": {},
   "source": [
    "frequent_words, count = zip(*dictionary.most_common(75))\n",
    "\n",
    "plt.figure(figsize=(17, 10))\n",
    "plt.bar(frequent_words, count)\n",
    "plt.xticks(rotation='vertical')\n",
    "plt.title(\"Count of Most Frequent 75 Words\")\n",
    "plt.xlabel(\"wors\")\n",
    "plt.ylabel(\"count\")"
   ]
  },
  {
   "cell_type": "code",
   "execution_count": 29,
   "metadata": {},
   "outputs": [
    {
     "data": {
      "text/plain": [
       "Text(0, 0.5, 'count')"
      ]
     },
     "execution_count": 29,
     "metadata": {},
     "output_type": "execute_result"
    },
    {
     "data": {
      "image/png": "[encoded data removed]",
      "text/plain": [
       "<Figure size 1224x720 with 1 Axes>"
      ]
     },
     "metadata": {},
     "output_type": "display_data"
    }
   ],
   "source": [
    "frequent_words, count = zip(*dictionary.most_common(75))\n",
    "\n",
    "plt.figure(figsize=(17, 10))\n",
    "plt.bar(frequent_words, count)\n",
    "plt.xticks(rotation='vertical')\n",
    "plt.title(\"Count of Most Frequent 75 Words\")\n",
    "plt.xlabel(\"word\")\n",
    "plt.ylabel(\"count\")"
   ]
  },
  {
   "cell_type": "code",
   "execution_count": 30,
   "metadata": {
    "scrolled": false
   },
   "outputs": [
    {
     "data": {
      "text/plain": [
       "Text(0, 0.5, 'count')"
      ]
     },
     "execution_count": 30,
     "metadata": {},
     "output_type": "execute_result"
    },
    {
     "data": {
      "image/png": "[encoded data removed]",
      "text/plain": [
       "<Figure size 1224x720 with 1 Axes>"
      ]
     },
     "metadata": {},
     "output_type": "display_data"
    }
   ],
   "source": [
    "least_frequent_words, count = zip(*dictionary.most_common()[:-76:-1])\n",
    "\n",
    "plt.figure(figsize=(17, 10))\n",
    "plt.bar(least_frequent_words, count)\n",
    "plt.xticks(rotation='vertical')\n",
    "plt.title(\"Count of Least Frequent 75 Words\")\n",
    "plt.xlabel(\"word\")\n",
    "plt.ylabel(\"count\")"
   ]
  },
  {
   "cell_type": "code",
   "execution_count": 31,
   "metadata": {
    "scrolled": false
   },
   "outputs": [
    {
     "data": {
      "text/plain": [
       "Text(0, 0.5, 'count in log scale')"
      ]
     },
     "execution_count": 31,
     "metadata": {},
     "output_type": "execute_result"
    },
    {
     "data": {
      "image/png": "[encoded data removed]",
      "text/plain": [
       "<Figure size 1224x720 with 1 Axes>"
      ]
     },
     "metadata": {},
     "output_type": "display_data"
    }
   ],
   "source": [
    "_, sorted_counts = zip(*dictionary.most_common())\n",
    "\n",
    "plt.figure(figsize=(17, 10))\n",
    "plt.loglog(sorted_counts)\n",
    "plt.xticks(rotation='vertical')\n",
    "plt.title(\"Count of words vs their sorted index in log-log scale\")\n",
    "plt.xlabel(\"indices in log scale\")\n",
    "plt.ylabel(\"count in log scale\")"
   ]
  },
  {
   "cell_type": "code",
   "execution_count": 32,
   "metadata": {},
   "outputs": [
    {
     "data": {
      "text/plain": [
       "7080"
      ]
     },
     "execution_count": 32,
     "metadata": {},
     "output_type": "execute_result"
    }
   ],
   "source": [
    "# number of words appear only once in the dataset\n",
    "sum(np.array(sorted_counts) == 1)"
   ]
  },
  {
   "cell_type": "markdown",
   "metadata": {},
   "source": [
    "### Filtering\n",
    "\n",
    "We suggest to filter your data by removing sentences containing rare words. \n",
    "\n",
    "\n",
    "**Code** To achieve that, you should create a new dataset where sentences containing rare words (words that occur less than N times in the dataset) are removed. Keep at least 50'000 sentences (depending on your computing power, you can keep more). \n",
    "HINT: Start by updating the dictionary accordingly and then remove any sentence that contains at least a single word that is not in the dictionary of words. [2 pts]\n",
    "\n",
    "**Question**: How much did you reduce the number of unique words with your rare event suppression procedure? [1 pt]\n",
    "    \n",
    "**Answer**: *We aproximately reduce the unique_words with a rate of 1/12 which corresponds to 1644 words out of 18673*\n",
    "\n",
    "**Question**: How many sentences are in your filtered and original dataset? [1 pt]\n",
    "\n",
    "**Answer**: *There are 131424 sentences in original dataset and 67024 sentences in filtered dataset*\n",
    "\n",
    "**Question**: What is the impact on learning and generalization of removing sentences with rare words from your dataset? [2 pt]\n",
    "\n",
    "**Answer**: *In terms of learning, it provides cleaner and smaller dataset that allows to train faster. In terms of generalization, it removes context specific terms and allows network to respond in a more common language.*"
   ]
  },
  {
   "cell_type": "code",
   "execution_count": 33,
   "metadata": {},
   "outputs": [],
   "source": [
    "#TODO: Review answer of the last questio above"
   ]
  },
  {
   "cell_type": "code",
   "execution_count": 34,
   "metadata": {
    "scrolled": true
   },
   "outputs": [
    {
     "data": {
      "text/plain": [
       "54"
      ]
     },
     "execution_count": 34,
     "metadata": {},
     "output_type": "execute_result"
    }
   ],
   "source": [
    "sorted_counts[int(len(sorted_counts) * 1 / 12)]"
   ]
  },
  {
   "cell_type": "code",
   "execution_count": 35,
   "metadata": {},
   "outputs": [
    {
     "data": {
      "text/plain": [
       "(1644, 18673)"
      ]
     },
     "execution_count": 35,
     "metadata": {},
     "output_type": "execute_result"
    }
   ],
   "source": [
    "frequent_dictionary = {}\n",
    "count_threshold = 50\n",
    "\n",
    "for word in dictionary:\n",
    "    if dictionary[word] >= count_threshold: frequent_dictionary[word] = dictionary[word]\n",
    "        \n",
    "len(frequent_dictionary), len(dictionary)"
   ]
  },
  {
   "cell_type": "code",
   "execution_count": 36,
   "metadata": {},
   "outputs": [],
   "source": [
    "filtered_sentences = []\n",
    "\n",
    "for sentence in sentences:\n",
    "    words = set(sentence.split(' '))\n",
    "    include = True\n",
    "    for word in words:\n",
    "        if not word in frequent_dictionary: include = False\n",
    "    if include: filtered_sentences.append(sentence)"
   ]
  },
  {
   "cell_type": "code",
   "execution_count": 37,
   "metadata": {},
   "outputs": [
    {
     "data": {
      "text/plain": [
       "(67024, 131424)"
      ]
     },
     "execution_count": 37,
     "metadata": {},
     "output_type": "execute_result"
    }
   ],
   "source": [
    "len(filtered_sentences), len(sentences)"
   ]
  },
  {
   "cell_type": "markdown",
   "metadata": {},
   "source": [
    "### Tokenization and padding\n",
    "\n",
    "Now you will transform our filtered data into a format that is understandable by an ANN. To achieve that, you should transform words to integers, where single integers in the range [1,size of the dictionary] are mapped to single words in your dictionary. This process is commonly named 'tokenization'. In addition, we will keep the value 0 to a specific artificial word 'PADD' that will be used to account for the variable length of sentences and add to each sentence a 'START' and an 'END' word. \n",
    "\n",
    "**Code** Start by adding the three artificial words to your dictionary (list of possible tokens) and then translate every sentences to a list of integers. \n",
    "HINT: use the Python List index() method. [2 pts]\n",
    "\n",
    "**Figure** Use the violinplot to show the density of tokenized sentences length. [1pt]\n",
    "\n",
    "**Code** From this figure, select a maximum number (=maxlen) of tokens for which most of the sentences have less. Padd (and eventually truncate) all sentences with the 'PADD' token (value 0 in the integer representation) until all tokenized sentences have the same length (maxlen).\n",
    "HINT: use the pad_sequences function from keras.preprocessing.sequence [2 pts]\n",
    "\n",
    "**Code** Check that you can recover the original sentence. Randomly select two sentences from your integer and padded representation and translate them back using your dictionary. [1 pt]"
   ]
  },
  {
   "cell_type": "code",
   "execution_count": 38,
   "metadata": {},
   "outputs": [],
   "source": [
    "#TODO: think about word-integer assignment\n",
    "\n",
    "# Create tokenization dictionary that links words with their tokens\n",
    "word_to_token = {'PADD': 0, 'START': 1, 'END': 2}\n",
    "token_to_word = {0: 'PADD', 1: 'START', 2: 'END'}\n",
    "\n",
    "k = 3\n",
    "for word in frequent_dictionary:\n",
    "    word_to_token[word] = k\n",
    "    token_to_word[k] = word\n",
    "    k += 1"
   ]
  },
  {
   "cell_type": "code",
   "execution_count": 39,
   "metadata": {
    "scrolled": true
   },
   "outputs": [],
   "source": [
    "# transform dataset to tokenized dataset\n",
    "\n",
    "tokenized_sentences = []\n",
    "\n",
    "for sentence in filtered_sentences:\n",
    "    token = []\n",
    "    for word in sentence.split(' '):\n",
    "        token.append(word_to_token[word])\n",
    "    tokenized_sentences.append(token)"
   ]
  },
  {
   "cell_type": "code",
   "execution_count": 40,
   "metadata": {
    "scrolled": false
   },
   "outputs": [
    {
     "data": {
      "text/plain": [
       "Text(0.5, 1.0, 'Violinplot of Tokenized Sentences')"
      ]
     },
     "execution_count": 40,
     "metadata": {},
     "output_type": "execute_result"
    },
    {
     "data": {
      "image/png": "[encoded data removed]",
      "text/plain": [
       "<Figure size 1224x720 with 1 Axes>"
      ]
     },
     "metadata": {},
     "output_type": "display_data"
    }
   ],
   "source": [
    "# plot violinplot\n",
    "lengths_of_tokenized_sentences = [len(tokenized_sentence) for tokenized_sentence in tokenized_sentences]\n",
    "\n",
    "plt.figure(figsize=(17, 10))\n",
    "plt.violinplot(lengths_of_tokenized_sentences)\n",
    "plt.title(\"Violinplot of Tokenized Sentences\")"
   ]
  },
  {
   "cell_type": "code",
   "execution_count": 41,
   "metadata": {},
   "outputs": [],
   "source": [
    "# pad the dataset\n",
    "maxlen = 25\n",
    "padded_tokenized_sentences=pad_sequences(tokenized_sentences, maxlen=maxlen, padding='post', truncating='post', value=word_to_token['PADD'])"
   ]
  },
  {
   "cell_type": "code",
   "execution_count": 42,
   "metadata": {},
   "outputs": [
    {
     "data": {
      "text/plain": [
       "array([[  1,   7,  21, ...,   0,   0,   2],\n",
       "       [  1,  41,  26, ...,   0,   0,   2],\n",
       "       [  1,  57,  26, ...,   0,   0,   2],\n",
       "       ...,\n",
       "       [  1,  65,  10, ...,   0,   0,   2],\n",
       "       [  1,  10, 180, ...,   0,   0,   2],\n",
       "       [  1,  87,  32, ...,   0,   0,   2]])"
      ]
     },
     "execution_count": 42,
     "metadata": {},
     "output_type": "execute_result"
    }
   ],
   "source": [
    "# add 'START' and 'END' tokens to the data\n",
    "num_sample, _=padded_tokenized_sentences.shape\n",
    "\n",
    "start_vec = np.full((num_sample, 1), word_to_token[\"START\"])\n",
    "end_vec = np.full((num_sample, 1), word_to_token[\"END\"])\n",
    "\n",
    "padded_tokenized_sentences = np.hstack((start_vec, padded_tokenized_sentences, end_vec))\n",
    "padded_tokenized_sentences"
   ]
  },
  {
   "cell_type": "code",
   "execution_count": 43,
   "metadata": {},
   "outputs": [],
   "source": [
    "def tokenlisttosentence(tokenlist):\n",
    "    sentence = ''\n",
    "    for token in tokenlist[1:-1]:\n",
    "        if token: sentence = sentence + token_to_word[token] + ' '\n",
    "    return sentence[:-1]"
   ]
  },
  {
   "cell_type": "code",
   "execution_count": 44,
   "metadata": {},
   "outputs": [
    {
     "name": "stdout",
     "output_type": "stream",
     "text": [
      "original:  what do you do for a living ? recovered:  what do you do for a living ?\n",
      "original:  hi ! pretty good . just teaching my daughter to cook great like i do . recovered:  hi ! pretty good . just teaching my daughter to cook great like i do .\n"
     ]
    }
   ],
   "source": [
    "idx = np.random.randint(len(padded_tokenized_sentences))\n",
    "print(\"original: \", filtered_sentences[idx], \"recovered: \", tokenlisttosentence(padded_tokenized_sentences[idx]))\n",
    "idx = np.random.randint(len(padded_tokenized_sentences))\n",
    "print(\"original: \", filtered_sentences[idx], \"recovered: \", tokenlisttosentence(padded_tokenized_sentences[idx]))\n"
   ]
  },
  {
   "cell_type": "markdown",
   "metadata": {},
   "source": [
    "### Saving\n",
    "\n",
    "Now is a good time to save your data (end of processing). An example code using the pickle library is shown below.\n"
   ]
  },
  {
   "cell_type": "code",
   "execution_count": null,
   "metadata": {
    "collapsed": true
   },
   "outputs": [],
   "source": [
    "import pickle\n",
    "\n",
    "#save\n",
    "with open(\"data.pkl\", \"wb\") as file:\n",
    "    pickle.dump([filtered_sentences, dictionary, tokens], file)\n",
    "    \n",
    "#load\n",
    "with open(\"data.pkl\", \"rb\") as file:\n",
    "    [filtered_sentences, dictionary, tokens] = pickle.load(file)"
   ]
  },
  {
   "cell_type": "markdown",
   "metadata": {},
   "source": [
    "## Building and training generative models of language"
   ]
  },
  {
   "cell_type": "markdown",
   "metadata": {},
   "source": [
    "### RNN vs LSTM vs GRU \n",
    "\n",
    "Build, train and compare generative models of language based on RNNs with different recurrent units (SimpleRNN, GRU and LSTM). \n",
    "\n",
    "The target of the network will be to approximate the word transition probabilities Pr(word[n+1]|H[n]) with H[n]=f(word[:n]) being the hidden state of the network.  \n",
    "\n",
    "**code** You should complete the proposed model (using the Keras API rather than the Sequential model for more flexibility). Be sure to understand each line. The embedding layer allows to transform an integer to a dense vector. That would be our input to the recurrent network - each sentence is mapped to a sequence of vectors, each representing a single word. You can then design your own readout(s) and output layers. By default, use the proposed meta parameters. You can adapt them if you have more or less computing power (32 epochs should take around 30 minutes). [2 pts]\n",
    "\n",
    "**Question** How will your networks deal with the artificial word 'PADD' that you added at the end of each sentences  [2 pts]\n",
    "\n",
    "**Answer**\n",
    "\n",
    "**code** Then train three different networks with the same architecture but using different recurrent units (simpleRNN, GRU and LSTM). Save the learning history (training/validation loss and accuracy for each epoch) as well as the models. [1 pt]\n",
    "\n",
    "**Question** How can you use this network to approximate the word transition probabilities? What will be the inputs and targets of the network at each batch? Give the input/output tensor dimensions. [2 pts]\n",
    "\n",
    "**Answer**\n",
    "\n",
    "**Figure** Show the learning curves (training and validation loss) for the different recurrent units. [1 pt]\n",
    "\n",
    "**Figure** Show the learning curves (training and validation accuracy) for the different recurrent units. [1 pt]\n",
    "\n",
    "**Question:** Which recurrent unit yields the best validation accuracy? Which is the fastest learner? [1 pt]\n",
    "\n",
    "**Answer**: \n",
    "\n",
    "**Question:** Do you observe an overfitting effect? Where and for which case? Give a possible explanation. [1 pt] \n",
    "\n",
    "**Answer**: \n",
    "\n",
    "**Question:** Suggest one option modifying your dataset to decrease overfitting. [1 pt]\n",
    "\n",
    "**Answer**: \n",
    "\n",
    "**Question:** Suggest one possible option modifying your network to decrease overfitting. [1 pt]\n",
    "\n",
    "**Answer**: \n",
    "\n",
    "**Question:** Suggest one possible option modifying the training modalities to counter overfitting. [1 pt]   \n",
    "\n",
    "**Answer**: "
   ]
  },
  {
   "cell_type": "code",
   "execution_count": 45,
   "metadata": {},
   "outputs": [],
   "source": [
    "#Meta-parameters\n",
    "embedding_size = 128\n",
    "hidden_size = 64\n",
    "dropout = 0.\n",
    "recurrent_dropout = 0.\n",
    "\n",
    "batch_size = 64\n",
    "epochs = 32\n",
    "validation_split = 0.2\n",
    "\n",
    "dataset_cut = -1"
   ]
  },
  {
   "cell_type": "code",
   "execution_count": 46,
   "metadata": {},
   "outputs": [],
   "source": [
    "I = {}\n",
    "E = {}\n",
    "H = {}\n",
    "R = {}\n",
    "Y = {}\n",
    "models = {}\n",
    "logs = {}"
   ]
  },
  {
   "cell_type": "code",
   "execution_count": 119,
   "metadata": {},
   "outputs": [],
   "source": [
    "from keras.utils import to_categorical\n",
    "\n",
    "X = padded_tokenized_sentences\n",
    "T = to_categorical(X)\n",
    "maxlen=X.shape[1]\n",
    "tokens = list(token_to_word.keys())"
   ]
  },
  {
   "cell_type": "code",
   "execution_count": 120,
   "metadata": {
    "scrolled": false
   },
   "outputs": [
    {
     "name": "stdout",
     "output_type": "stream",
     "text": [
      "_________________________________________________________________\n",
      "Layer (type)                 Output Shape              Param #   \n",
      "=================================================================\n",
      "input (InputLayer)           (None, 26)                0         \n",
      "_________________________________________________________________\n",
      "embedding (Embedding)        (None, 26, 128)           210816    \n",
      "_________________________________________________________________\n",
      "simple_rnn_30 (SimpleRNN)    (None, 26, 64)            12352     \n",
      "_________________________________________________________________\n",
      "readout (TimeDistributed)    (None, 26, 128)           8320      \n",
      "_________________________________________________________________\n",
      "output (TimeDistributed)     (None, 26, 1647)          212463    \n",
      "=================================================================\n",
      "Total params: 443,951\n",
      "Trainable params: 443,951\n",
      "Non-trainable params: 0\n",
      "_________________________________________________________________\n",
      "(67024, 26) (67024, 26, 1647)\n",
      "Train on 53618 samples, validate on 13405 samples\n",
      "Epoch 1/32\n",
      "53618/53618 [==============================] - 95s 2ms/step - loss: 4.1171 - acc: 0.2518 - val_loss: 3.5680 - val_acc: 0.3186\n",
      "Epoch 2/32\n",
      "53618/53618 [==============================] - 100s 2ms/step - loss: 3.4397 - acc: 0.3278 - val_loss: 3.3665 - val_acc: 0.3341\n",
      "Epoch 3/32\n",
      "53618/53618 [==============================] - 99s 2ms/step - loss: 3.2846 - acc: 0.3417 - val_loss: 3.2736 - val_acc: 0.3466\n",
      "Epoch 4/32\n",
      "53618/53618 [==============================] - 102s 2ms/step - loss: 3.1940 - acc: 0.3510 - val_loss: 3.2181 - val_acc: 0.3510\n",
      "Epoch 5/32\n",
      "53618/53618 [==============================] - 99s 2ms/step - loss: 3.1311 - acc: 0.3567 - val_loss: 3.1899 - val_acc: 0.3535\n",
      "Epoch 6/32\n",
      "53618/53618 [==============================] - 98s 2ms/step - loss: 3.0833 - acc: 0.3613 - val_loss: 3.1619 - val_acc: 0.3582\n",
      "Epoch 7/32\n",
      "53618/53618 [==============================] - 100s 2ms/step - loss: 3.0450 - acc: 0.3645 - val_loss: 3.1470 - val_acc: 0.3596\n",
      "Epoch 8/32\n",
      "53618/53618 [==============================] - 99s 2ms/step - loss: 3.0125 - acc: 0.3681 - val_loss: 3.1329 - val_acc: 0.3611\n",
      "Epoch 9/32\n",
      "53618/53618 [==============================] - 98s 2ms/step - loss: 2.9847 - acc: 0.3701 - val_loss: 3.1257 - val_acc: 0.3621\n",
      "Epoch 10/32\n",
      "53618/53618 [==============================] - 97s 2ms/step - loss: 2.9617 - acc: 0.3728 - val_loss: 3.1226 - val_acc: 0.3636\n",
      "Epoch 11/32\n",
      "53618/53618 [==============================] - 95s 2ms/step - loss: 2.9393 - acc: 0.3749 - val_loss: 3.1176 - val_acc: 0.3646\n",
      "Epoch 12/32\n",
      "53618/53618 [==============================] - 98s 2ms/step - loss: 2.9210 - acc: 0.3761 - val_loss: 3.1171 - val_acc: 0.3619\n",
      "Epoch 13/32\n",
      "53618/53618 [==============================] - 96s 2ms/step - loss: 2.9045 - acc: 0.3783 - val_loss: 3.1138 - val_acc: 0.3631\n",
      "Epoch 14/32\n",
      "53618/53618 [==============================] - 95s 2ms/step - loss: 2.8885 - acc: 0.3795 - val_loss: 3.1153 - val_acc: 0.3634\n",
      "Epoch 15/32\n",
      "53618/53618 [==============================] - 93s 2ms/step - loss: 2.8748 - acc: 0.3805 - val_loss: 3.1155 - val_acc: 0.3648\n",
      "Epoch 16/32\n",
      "53618/53618 [==============================] - 100s 2ms/step - loss: 2.8619 - acc: 0.3819 - val_loss: 3.1150 - val_acc: 0.3646\n",
      "Epoch 17/32\n",
      "53618/53618 [==============================] - 100s 2ms/step - loss: 2.8499 - acc: 0.3830 - val_loss: 3.1137 - val_acc: 0.3672\n",
      "Epoch 18/32\n",
      "53618/53618 [==============================] - 102s 2ms/step - loss: 2.8385 - acc: 0.3842 - val_loss: 3.1204 - val_acc: 0.3661\n",
      "Epoch 19/32\n",
      "53618/53618 [==============================] - 102s 2ms/step - loss: 2.8289 - acc: 0.3847 - val_loss: 3.1229 - val_acc: 0.3652\n",
      "Epoch 20/32\n",
      "53618/53618 [==============================] - 98s 2ms/step - loss: 2.8190 - acc: 0.3857 - val_loss: 3.1267 - val_acc: 0.3652\n",
      "Epoch 21/32\n",
      "53618/53618 [==============================] - 93s 2ms/step - loss: 2.8111 - acc: 0.3864 - val_loss: 3.1264 - val_acc: 0.3647\n",
      "Epoch 22/32\n",
      "53618/53618 [==============================] - 99s 2ms/step - loss: 2.8025 - acc: 0.3876 - val_loss: 3.1353 - val_acc: 0.3655\n",
      "Epoch 23/32\n",
      "53618/53618 [==============================] - 97s 2ms/step - loss: 2.7954 - acc: 0.3883 - val_loss: 3.1336 - val_acc: 0.3661\n",
      "Epoch 24/32\n",
      "53618/53618 [==============================] - 92s 2ms/step - loss: 2.7877 - acc: 0.3888 - val_loss: 3.1409 - val_acc: 0.3641\n",
      "Epoch 25/32\n",
      "53618/53618 [==============================] - 94s 2ms/step - loss: 2.7807 - acc: 0.3890 - val_loss: 3.1446 - val_acc: 0.3664\n",
      "Epoch 26/32\n",
      "53618/53618 [==============================] - 97s 2ms/step - loss: 2.7747 - acc: 0.3899 - val_loss: 3.1474 - val_acc: 0.3653\n",
      "Epoch 27/32\n",
      "53618/53618 [==============================] - 98s 2ms/step - loss: 2.7686 - acc: 0.3904 - val_loss: 3.1481 - val_acc: 0.3655\n",
      "Epoch 28/32\n",
      "53618/53618 [==============================] - 92s 2ms/step - loss: 2.7629 - acc: 0.3909 - val_loss: 3.1524 - val_acc: 0.3660\n",
      "Epoch 29/32\n",
      "53618/53618 [==============================] - 89s 2ms/step - loss: 2.7573 - acc: 0.3909 - val_loss: 3.1597 - val_acc: 0.3646\n",
      "Epoch 30/32\n",
      "53618/53618 [==============================] - 90s 2ms/step - loss: 2.7523 - acc: 0.3919 - val_loss: 3.1619 - val_acc: 0.3647\n",
      "Epoch 31/32\n",
      "53618/53618 [==============================] - 100s 2ms/step - loss: 2.7476 - acc: 0.3921 - val_loss: 3.1627 - val_acc: 0.3645\n",
      "Epoch 32/32\n",
      "53618/53618 [==============================] - 97s 2ms/step - loss: 2.7430 - acc: 0.3928 - val_loss: 3.1699 - val_acc: 0.3641\n"
     ]
    },
    {
     "ename": "NameError",
     "evalue": "name 'pickle' is not defined",
     "output_type": "error",
     "traceback": [
      "\u001b[0;31m---------------------------------------------------------------------------\u001b[0m",
      "\u001b[0;31mNameError\u001b[0m                                 Traceback (most recent call last)",
      "\u001b[0;32m<ipython-input-120-d51050e19500>\u001b[0m in \u001b[0;36m<module>\u001b[0;34m()\u001b[0m\n\u001b[1;32m     25\u001b[0m \u001b[0;31m#save\u001b[0m\u001b[0;34m\u001b[0m\u001b[0;34m\u001b[0m\u001b[0;34m\u001b[0m\u001b[0m\n\u001b[1;32m     26\u001b[0m \u001b[0;32mwith\u001b[0m \u001b[0mopen\u001b[0m\u001b[0;34m(\u001b[0m\u001b[0;34m\"RNNmodel_\"\u001b[0m\u001b[0;34m+\u001b[0m\u001b[0mstr\u001b[0m\u001b[0;34m(\u001b[0m\u001b[0membedding_size\u001b[0m\u001b[0;34m)\u001b[0m\u001b[0;34m+\u001b[0m\u001b[0;34m'_'\u001b[0m\u001b[0;34m+\u001b[0m\u001b[0mstr\u001b[0m\u001b[0;34m(\u001b[0m\u001b[0mhidden_size\u001b[0m\u001b[0;34m)\u001b[0m\u001b[0;34m+\u001b[0m\u001b[0;34m\"_log.pkl\"\u001b[0m\u001b[0;34m,\u001b[0m \u001b[0;34m\"wb\"\u001b[0m\u001b[0;34m)\u001b[0m \u001b[0;32mas\u001b[0m \u001b[0mfile\u001b[0m\u001b[0;34m:\u001b[0m\u001b[0;34m\u001b[0m\u001b[0;34m\u001b[0m\u001b[0m\n\u001b[0;32m---> 27\u001b[0;31m     \u001b[0mpickle\u001b[0m\u001b[0;34m.\u001b[0m\u001b[0mdump\u001b[0m\u001b[0;34m(\u001b[0m\u001b[0mlogs\u001b[0m\u001b[0;34m[\u001b[0m\u001b[0;34m'RNN'\u001b[0m\u001b[0;34m]\u001b[0m\u001b[0;34m,\u001b[0m \u001b[0mfile\u001b[0m\u001b[0;34m)\u001b[0m\u001b[0;34m\u001b[0m\u001b[0;34m\u001b[0m\u001b[0m\n\u001b[0m\u001b[1;32m     28\u001b[0m \u001b[0mmodels\u001b[0m\u001b[0;34m[\u001b[0m\u001b[0;34m'RNN'\u001b[0m\u001b[0;34m]\u001b[0m\u001b[0;34m.\u001b[0m\u001b[0msave\u001b[0m\u001b[0;34m(\u001b[0m\u001b[0;34m\"RNNmodel_\"\u001b[0m\u001b[0;34m+\u001b[0m\u001b[0mstr\u001b[0m\u001b[0;34m(\u001b[0m\u001b[0membedding_size\u001b[0m\u001b[0;34m)\u001b[0m\u001b[0;34m+\u001b[0m\u001b[0;34m'_'\u001b[0m\u001b[0;34m+\u001b[0m\u001b[0mstr\u001b[0m\u001b[0;34m(\u001b[0m\u001b[0mhidden_size\u001b[0m\u001b[0;34m)\u001b[0m\u001b[0;34m)\u001b[0m\u001b[0;34m\u001b[0m\u001b[0;34m\u001b[0m\u001b[0m\n",
      "\u001b[0;31mNameError\u001b[0m: name 'pickle' is not defined"
     ]
    }
   ],
   "source": [
    "#Model suggestion\n",
    "\n",
    "I['RNN'] = Input(shape=(maxlen-1,), name=\"input\")\n",
    "E['RNN'] = Embedding(len(tokens), embedding_size, mask_zero=True, name=\"embedding\")\n",
    "\n",
    "#your network here\n",
    "H['RNN'] = SimpleRNN(units=hidden_size, return_sequences=True, dropout=dropout, recurrent_dropout=recurrent_dropout)(E['RNN'](I['RNN']))  #... Recurrent layer(s)\n",
    "\n",
    "R['RNN'] = TimeDistributed(Dense(embedding_size, activation='relu'), name='readout')(H['RNN'])  #... Readout\n",
    "Y['RNN'] = TimeDistributed(Dense(len(tokens), activation='softmax'), name='output')(R['RNN'])  #... Output\n",
    "\n",
    "models['RNN'] = Model(inputs = [I['RNN']], outputs = [Y['RNN']])\n",
    "models['RNN'].compile(\n",
    "    loss='categorical_crossentropy', \n",
    "    optimizer=Adam(),\n",
    "    metrics=['acc'])\n",
    "models['RNN'].summary()\n",
    "\n",
    "print(X[:,:-1].shape, T[:,1:].shape)\n",
    "logs['RNN'] = models['RNN'].fit({'input': X[:dataset_cut,:-1]}, {'output': T[:dataset_cut,1:]}, \n",
    "                                    epochs=epochs, \n",
    "                                    validation_split=validation_split, \n",
    "                                    batch_size=batch_size).history\n",
    "\n",
    "#save\n",
    "with open(\"RNNmodel_\"+str(embedding_size)+'_'+str(hidden_size)+\"_log.pkl\", \"wb\") as file:\n",
    "    pickle.dump(logs['RNN'], file)\n",
    "models['RNN'].save(\"RNNmodel_\"+str(embedding_size)+'_'+str(hidden_size))"
   ]
  },
  {
   "cell_type": "code",
   "execution_count": 127,
   "metadata": {},
   "outputs": [],
   "source": [
    "#load\n",
    "with open(\"RNNmodel_\"+str(embedding_size)+'_'+str(hidden_size)+\"_log.pkl\", \"rb\") as file:\n",
    "    RNNmodel_log = pickle.load(file)\n",
    "RNNmodel = load_model(\"RNNmodel_\"+str(embedding_size)+'_'+str(hidden_size))"
   ]
  },
  {
   "cell_type": "code",
   "execution_count": null,
   "metadata": {
    "collapsed": true
   },
   "outputs": [],
   "source": []
  },
  {
   "cell_type": "code",
   "execution_count": null,
   "metadata": {
    "collapsed": true
   },
   "outputs": [],
   "source": []
  },
  {
   "cell_type": "code",
   "execution_count": null,
   "metadata": {
    "collapsed": true
   },
   "outputs": [],
   "source": []
  },
  {
   "cell_type": "code",
   "execution_count": null,
   "metadata": {
    "collapsed": true
   },
   "outputs": [],
   "source": []
  },
  {
   "cell_type": "code",
   "execution_count": null,
   "metadata": {
    "collapsed": true
   },
   "outputs": [],
   "source": []
  },
  {
   "cell_type": "code",
   "execution_count": null,
   "metadata": {
    "collapsed": true
   },
   "outputs": [],
   "source": []
  },
  {
   "cell_type": "code",
   "execution_count": null,
   "metadata": {
    "collapsed": true
   },
   "outputs": [],
   "source": []
  },
  {
   "cell_type": "markdown",
   "metadata": {},
   "source": [
    "### Optimal network size\n",
    "\n",
    "Compare the learning curves for three networks with 64 (previous exercise), 128 and 256 GRUs (single layer) and one with two hidden layers of 64 GRUs. \n",
    "\n",
    "**Code** Build and train the networks. Apply EarlyStopping (monitor='val_acc', min_delta=0.001, patience=2). Use transfer learning, do not train from scratch your embedding layer, rather re-use the embedding layer from your best performing network in the last exercise. [4 pts]\n",
    "\n",
    "**Figure** Show the learning curves (training and validation loss) for the four models. [1 pt]\n",
    "\n",
    "**Figure** Show the learning curves (training and validation accuracy) for the four models. [1 pt]\n",
    "\n",
    "**Question** List and briefly explain the differences in the learning curves for the different models? [2 pts]\n",
    "\n",
    "**Answer**\n",
    "\n",
    "**Question** What effect had EarlyStopping? Give one advantage and one drawback. [2 pts]\n",
    "\n",
    "**Answer**\n",
    "\n",
    "**Question** What is your best model? Why? [1 pt]\n",
    "\n",
    "**Answer**\n",
    "\n"
   ]
  },
  {
   "cell_type": "code",
   "execution_count": null,
   "metadata": {},
   "outputs": [],
   "source": []
  },
  {
   "cell_type": "code",
   "execution_count": null,
   "metadata": {},
   "outputs": [],
   "source": []
  },
  {
   "cell_type": "code",
   "execution_count": null,
   "metadata": {},
   "outputs": [],
   "source": []
  },
  {
   "cell_type": "code",
   "execution_count": null,
   "metadata": {
    "collapsed": true
   },
   "outputs": [],
   "source": []
  },
  {
   "cell_type": "code",
   "execution_count": null,
   "metadata": {},
   "outputs": [],
   "source": []
  },
  {
   "cell_type": "markdown",
   "metadata": {},
   "source": [
    "### Generate sentences\n",
    "\n",
    "Now you will generate new sentences from your best performing model.\n",
    "\n",
    "**Code** To achieve that, use the provided sample function below to generate new sentences from your model. You should start by constructing a sentence that starts with the 'START' artificial word and all other words being the 'PADD' artificial word. Then sample the first word from the corresponding probabilities given by your model. Add this word to the sentence and continue like this until you sample the 'END' artificial word or the maximum sentence length. [2 pts]\n",
    "\n",
    "**Code** Generate 10 sentences for different sampling temperature in [0., 0.25, 0.5, 0.75, 1., 1.5., 2.]. [1 pt]\n",
    "\n",
    "**7 Figures** For each temperature, use matplotlib imshow to plot the probablities of every word in one generated sentence (and only these words) at each time step. y-axis should be the words that are present in the sentence. x-axis the timesteps and the imshow value the probabilities given by the model for all words in the sentence at each timestep. Use the a colormap where 0 is white, e.g. cmap='Greys'. [2 pts]\n",
    "\n",
    "**Code** Finally, seed your model with two different beginnings of max 4 words and let it generate 10 possible continuations (use sampling temperature of 1.). [2 pts]\n",
    "\n",
    "**Question** What is the effect of sampling temperature on the generated sentences? [1 pt]\n",
    "\n",
    "**Answer**\n",
    "\n",
    "**Question** In terms of sampling a probability distribution, what does a sampling temperature of 0 corresponds to? [1 pt] \n",
    "\n",
    "**Answer**\n",
    "\n",
    "**Question** In terms of sampling a probability distribution, what does a sampling temperature of 1. corresponds to? [1 pt] \n",
    "\n",
    "**Answer**\n",
    "\n",
    "**Question** In terms of sampling a probability distribution, what does a very high sampling temperature corresponds to? [1 pt]\n",
    "\n",
    "**Answer**\n",
    "\n",
    "**Question** Based on the plotted word probabilities, explain how a sentence is generated. [2 pts]\n",
    "\n",
    "**Answer**\n",
    "\n",
    "**Question** Do you observe timesteps with more than one word with non-zero probability? How do these probable words relate in terms of language? [1 pt]\n",
    "\n",
    "**Answer**"
   ]
  },
  {
   "cell_type": "code",
   "execution_count": 124,
   "metadata": {},
   "outputs": [],
   "source": [
    "def sample(preds, temperature=1.):\n",
    "    # helper function to sample an index from a probability array\n",
    "    if temperature == 0.:\n",
    "        return np.argmax(preds)\n",
    "    preds = np.asarray(preds).astype('float64')\n",
    "    preds = np.log(preds) / temperature\n",
    "    exp_preds = np.exp(preds)\n",
    "    preds = exp_preds / np.sum(exp_preds)\n",
    "    probas = np.random.multinomial(1, preds, 1)\n",
    "    return np.argmax(probas)\n"
   ]
  },
  {
   "cell_type": "code",
   "execution_count": 279,
   "metadata": {},
   "outputs": [
    {
     "name": "stdout",
     "output_type": "stream",
     "text": [
      "[   1    7  336  242   29 1257 1142   20    0   29  221    6  302  610\n",
      "   20   10   11   48  463  843  788  235   65  520    0    2]\n"
     ]
    },
    {
     "name": "stderr",
     "output_type": "stream",
     "text": [
      "/anaconda3/lib/python3.6/site-packages/ipykernel_launcher.py:6: RuntimeWarning: divide by zero encountered in log\n",
      "  \n"
     ]
    },
    {
     "data": {
      "text/plain": [
       "'you should read my romance novels . my parents are still hard . i am a night near health yes and swimming'"
      ]
     },
     "execution_count": 279,
     "metadata": {},
     "output_type": "execute_result"
    }
   ],
   "source": [
    "token_list = np.zeros((1, 26))\n",
    "token_list[0, 0] = 1\n",
    "\n",
    "done = False\n",
    "i = 0\n",
    "\n",
    "while not done:\n",
    "    preds = RNNmodel.predict(token_list)\n",
    "    next_token = sample(preds.squeeze()[i,:])\n",
    "#     print(token_list)\n",
    "    \n",
    "    if next_token == 2 or i == 25:\n",
    "        done = True\n",
    "        token_list[0, i] = 2 \n",
    "        break\n",
    "    \n",
    "    i += 1\n",
    "    token_list[0, i] = next_token \n",
    "\n",
    "print(token_list.squeeze().astype('int'))\n",
    "tokenlisttosentence(token_list.squeeze())"
   ]
  },
  {
   "cell_type": "code",
   "execution_count": null,
   "metadata": {
    "collapsed": true
   },
   "outputs": [],
   "source": []
  },
  {
   "cell_type": "code",
   "execution_count": null,
   "metadata": {
    "collapsed": true
   },
   "outputs": [],
   "source": []
  },
  {
   "cell_type": "markdown",
   "metadata": {},
   "source": [
    "###  Word embedding visualization\n",
    "\n",
    "Here, you are asked to visualize the embedding layer. \n",
    "\n",
    "**Code** To do that, project in 2D the embedding vectors for different words. Use t-SNE, a projection that conserve the neighborhood relationships between vectors. HINT: Build a Keras model that takes as input a list of words and outputs a list of vector embeddings as learned by your best performing model. Use t-SNE dimensionality reduction (from sklearn.manifold import TSNE). [2 pts]\n",
    "\n",
    "**Figure** Plot the projection of the first 200 most frequent words in a 2D plot. On the plot, write the words. [2 pt] \n",
    "\n",
    "**Question** Do you observe clusters of words with similar meaning or role in language? Report three of them here. [1 pt]\n",
    "\n",
    "**Answer**\n",
    "\n",
    "**Question** Why is having similar vector representation for similar words a good approach for such models? Explain using the example clusters from before and argue in terms of prediction accuracy and/or generalization. [2 pts]\n",
    "\n",
    "**Answer**"
   ]
  },
  {
   "cell_type": "code",
   "execution_count": null,
   "metadata": {
    "scrolled": true
   },
   "outputs": [],
   "source": []
  },
  {
   "cell_type": "code",
   "execution_count": null,
   "metadata": {},
   "outputs": [],
   "source": []
  },
  {
   "cell_type": "code",
   "execution_count": null,
   "metadata": {
    "scrolled": true
   },
   "outputs": [],
   "source": []
  },
  {
   "cell_type": "markdown",
   "metadata": {},
   "source": [
    "## Chatbot\n",
    "\n",
    "Finally, you will construct a model with which you can chat. The network will take as input a sentence and output a response.\n",
    "\n",
    "**Code** For that, you should go back to your original data and construct a new dataset containing pairs of sentences, where each pair is a sentence and its answer. Be careful to not include any pair of sentences that contains words not present in your filtered dictionary. [2 pts]\n",
    "\n",
    "**Code** You should then tokenize, padd, truncate each sentence. Only the answers need the 'START' and 'END' artificial words. [1 pt]\n",
    "\n",
    "We provide you with a possible model, you are welcome to change it. This model uses an LSTM layer to encode the first sentence (the context). The final state of this LSTM layer is transfered to initialize the state of a decoder LSTM layer from which the answer sentence will be generated. \n",
    "\n",
    "**Code** Train your chatbot model on your dataset. [1 pt]\n",
    "\n",
    "**Code** Adapt your sentence generation code from before so that you can generate an answer given a context sentence from your model. [2 pts] \n",
    "\n",
    "**Code** After training, randomly select 10 context-answers pairs from your data and show both the real answer (the one from the data) and the generated one for two different sampling temperatures (e.g. 0.5 and 1.0). [2 pts]\n",
    "\n",
    "**Question** How similar are the generated answers and the real ones? Does your model provide probable answers (given the dataset)? Report here one good and one bad example. [2 pts]\n",
    "\n",
    "**Answer**\n",
    "\n",
    "**Question** Which sampling temperature gives better answers? why? [2 pts]\n",
    "\n",
    "**Answer**\n",
    "\n",
    "**Question** Would it be good if your model was able to reproduce exactly each real answer? Why? [1 pt]\n",
    "\n",
    "**Answer**\n",
    "\n",
    "**Code** Entertain yourself with your model. Write some code to chat with your bot, let it discuss with itself, ... be creative! [2 **bonus** pts]\n",
    "\n",
    "\n"
   ]
  },
  {
   "cell_type": "code",
   "execution_count": null,
   "metadata": {
    "collapsed": true
   },
   "outputs": [],
   "source": []
  },
  {
   "cell_type": "code",
   "execution_count": null,
   "metadata": {
    "collapsed": true
   },
   "outputs": [],
   "source": []
  },
  {
   "cell_type": "code",
   "execution_count": null,
   "metadata": {
    "collapsed": true
   },
   "outputs": [],
   "source": []
  },
  {
   "cell_type": "code",
   "execution_count": null,
   "metadata": {
    "collapsed": true
   },
   "outputs": [],
   "source": [
    "context = Input(shape=(maxlen-2,), name=\"input_context\")\n",
    "shared_embedding = E['GRU']\n",
    "context_embedding = shared_embedding(context)\n",
    "\n",
    "encoder_y, encoder_h, encoder_c = LSTM(hidden_size, \n",
    "            return_sequences=False,\n",
    "            return_state=True,\n",
    "            stateful=False,\n",
    "            dropout=dropout,\n",
    "            recurrent_dropout=recurrent_dropout,\n",
    "            go_backwards=True,\n",
    "            name=\"encoder\")(context_embedding)\n",
    "\n",
    "answer = Input(shape=(maxlen-1,), name=\"input_answer\")\n",
    "answer_embedding = shared_embedding(answer)\n",
    "\n",
    "decoder_input = answer_embedding\n",
    "decoder = LSTM(hidden_size, \n",
    "            return_sequences=True,\n",
    "            stateful=False,\n",
    "            dropout=dropout,\n",
    "            recurrent_dropout=recurrent_dropout,\n",
    "            name=\"decoder\")(answer_embedding, initial_state=[encoder_h, encoder_c])\n",
    "# decoder2 = LSTM(hidden_size, \n",
    "#             return_sequences=True,\n",
    "#             stateful=False,\n",
    "#             dropout=dropout,\n",
    "#             recurrent_dropout=recurrent_dropout,\n",
    "#             name=\"decoder2\")(decoder)\n",
    "\n",
    "R = TimeDistributed(Dense(embedding_size, activation='relu'), name='readout')(decoder)\n",
    "Y = TimeDistributed(Dense(len(tokens), activation='softmax'), name='output')(R)\n",
    "\n",
    "Chatbot = Model(inputs = [context, answer], outputs = [Y])\n",
    "Chatbot.compile(\n",
    "    loss='categorical_crossentropy', \n",
    "    optimizer=Adam(),\n",
    "    metrics=['acc'])\n",
    "Chatbot.summary()\n"
   ]
  },
  {
   "cell_type": "code",
   "execution_count": null,
   "metadata": {
    "scrolled": true
   },
   "outputs": [],
   "source": []
  },
  {
   "cell_type": "code",
   "execution_count": null,
   "metadata": {
    "collapsed": true
   },
   "outputs": [],
   "source": []
  },
  {
   "cell_type": "code",
   "execution_count": null,
   "metadata": {
    "collapsed": true
   },
   "outputs": [],
   "source": []
  },
  {
   "cell_type": "markdown",
   "metadata": {},
   "source": [
    "---"
   ]
  },
  {
   "cell_type": "code",
   "execution_count": 48,
   "metadata": {},
   "outputs": [],
   "source": [
    "xs = [1, 2, 3, 4]"
   ]
  },
  {
   "cell_type": "code",
   "execution_count": 52,
   "metadata": {},
   "outputs": [
    {
     "data": {
      "text/plain": [
       "[2]"
      ]
     },
     "execution_count": 52,
     "metadata": {},
     "output_type": "execute_result"
    }
   ],
   "source": [
    "xs[-3:0:-1]"
   ]
  },
  {
   "cell_type": "code",
   "execution_count": 55,
   "metadata": {},
   "outputs": [],
   "source": [
    "xs = np.array([[1, 2, 3],\n",
    "               [4, 5, 6],\n",
    "               [7, 8, 9]])"
   ]
  },
  {
   "cell_type": "code",
   "execution_count": 56,
   "metadata": {},
   "outputs": [
    {
     "data": {
      "text/plain": [
       "array([[1, 2, 3],\n",
       "       [4, 5, 6],\n",
       "       [7, 8, 9]])"
      ]
     },
     "execution_count": 56,
     "metadata": {},
     "output_type": "execute_result"
    }
   ],
   "source": [
    "xs"
   ]
  },
  {
   "cell_type": "code",
   "execution_count": 60,
   "metadata": {},
   "outputs": [
    {
     "data": {
      "text/plain": [
       "array([[2, 3],\n",
       "       [5, 6]])"
      ]
     },
     "execution_count": 60,
     "metadata": {},
     "output_type": "execute_result"
    }
   ],
   "source": [
    "xs[:-1, 1:]"
   ]
  }
 ],
 "metadata": {
  "kernelspec": {
   "display_name": "Python (ann)",
   "language": "python",
   "name": "ann"
  },
  "language_info": {
   "codemirror_mode": {
    "name": "ipython",
    "version": 3
   },
   "file_extension": ".py",
   "mimetype": "text/x-python",
   "name": "python",
   "nbconvert_exporter": "python",
   "pygments_lexer": "ipython3",
   "version": "3.6.7"
  }
 },
 "nbformat": 4,
 "nbformat_minor": 2
}
